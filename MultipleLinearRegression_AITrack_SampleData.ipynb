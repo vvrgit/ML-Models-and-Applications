{
  "nbformat": 4,
  "nbformat_minor": 0,
  "metadata": {
    "colab": {
      "name": "MultipleLinearRegression-AITrack-SampleData.ipynb",
      "provenance": [],
      "authorship_tag": "ABX9TyN5p6TZ3X8v8mza++VWVYVA",
      "include_colab_link": true
    },
    "kernelspec": {
      "name": "python3",
      "display_name": "Python 3"
    },
    "language_info": {
      "name": "python"
    }
  },
  "cells": [
    {
      "cell_type": "markdown",
      "metadata": {
        "id": "view-in-github",
        "colab_type": "text"
      },
      "source": [
        "<a href=\"https://colab.research.google.com/github/vvrgit/ML-Models-and-Applications/blob/main/MultipleLinearRegression_AITrack_SampleData.ipynb\" target=\"_parent\"><img src=\"https://colab.research.google.com/assets/colab-badge.svg\" alt=\"Open In Colab\"/></a>"
      ]
    },
    {
      "cell_type": "markdown",
      "metadata": {
        "id": "OlRLBH7QVozZ"
      },
      "source": [
        "![image.png](data:image/png;base64,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)"
      ]
    },
    {
      "cell_type": "markdown",
      "metadata": {
        "id": "6m65b3yNMpPR"
      },
      "source": [
        "## Mount Google Drive"
      ]
    },
    {
      "cell_type": "code",
      "metadata": {
        "colab": {
          "base_uri": "https://localhost:8080/"
        },
        "id": "LHFTC-zNMcNp",
        "outputId": "aca08350-e693-44ba-8996-c02f30041fcb"
      },
      "source": [
        "from google.colab import drive\n",
        "drive.mount('/content/drive')"
      ],
      "execution_count": 1,
      "outputs": [
        {
          "output_type": "stream",
          "name": "stdout",
          "text": [
            "Mounted at /content/drive\n"
          ]
        }
      ]
    },
    {
      "cell_type": "markdown",
      "metadata": {
        "id": "Xze3BMhpMtbw"
      },
      "source": [
        "# Import required libraries"
      ]
    },
    {
      "cell_type": "code",
      "metadata": {
        "id": "ReKKTAewMqow"
      },
      "source": [
        "import numpy as np\n",
        "import math as mt\n",
        "import random\n",
        "import pandas as pd"
      ],
      "execution_count": 2,
      "outputs": []
    },
    {
      "cell_type": "markdown",
      "metadata": {
        "id": "szK6zzn5Mwb5"
      },
      "source": [
        "## Import Data"
      ]
    },
    {
      "cell_type": "code",
      "metadata": {
        "colab": {
          "base_uri": "https://localhost:8080/",
          "height": 206
        },
        "id": "op6JfZsAMvbo",
        "outputId": "45417b65-e66f-4d37-9cdc-d53a884ef3ef"
      },
      "source": [
        "data = pd.read_csv('/content/drive/MyDrive/AI Data/sampledata_02.csv')\n",
        "data.head()"
      ],
      "execution_count": 3,
      "outputs": [
        {
          "output_type": "execute_result",
          "data": {
            "text/plain": [
              "    X1   X2    Y\n",
              "0  0.2  0.1  4.7\n",
              "1  0.4  0.3  5.7\n",
              "2  0.6  0.5  6.7\n",
              "3  0.8  0.7  7.7\n",
              "4  0.1  0.2  4.8"
            ],
            "text/html": [
              "\n",
              "  <div id=\"df-7821386a-888b-41d9-a80e-b85baa44129b\" class=\"colab-df-container\">\n",
              "    <div>\n",
              "<style scoped>\n",
              "    .dataframe tbody tr th:only-of-type {\n",
              "        vertical-align: middle;\n",
              "    }\n",
              "\n",
              "    .dataframe tbody tr th {\n",
              "        vertical-align: top;\n",
              "    }\n",
              "\n",
              "    .dataframe thead th {\n",
              "        text-align: right;\n",
              "    }\n",
              "</style>\n",
              "<table border=\"1\" class=\"dataframe\">\n",
              "  <thead>\n",
              "    <tr style=\"text-align: right;\">\n",
              "      <th></th>\n",
              "      <th>X1</th>\n",
              "      <th>X2</th>\n",
              "      <th>Y</th>\n",
              "    </tr>\n",
              "  </thead>\n",
              "  <tbody>\n",
              "    <tr>\n",
              "      <th>0</th>\n",
              "      <td>0.2</td>\n",
              "      <td>0.1</td>\n",
              "      <td>4.7</td>\n",
              "    </tr>\n",
              "    <tr>\n",
              "      <th>1</th>\n",
              "      <td>0.4</td>\n",
              "      <td>0.3</td>\n",
              "      <td>5.7</td>\n",
              "    </tr>\n",
              "    <tr>\n",
              "      <th>2</th>\n",
              "      <td>0.6</td>\n",
              "      <td>0.5</td>\n",
              "      <td>6.7</td>\n",
              "    </tr>\n",
              "    <tr>\n",
              "      <th>3</th>\n",
              "      <td>0.8</td>\n",
              "      <td>0.7</td>\n",
              "      <td>7.7</td>\n",
              "    </tr>\n",
              "    <tr>\n",
              "      <th>4</th>\n",
              "      <td>0.1</td>\n",
              "      <td>0.2</td>\n",
              "      <td>4.8</td>\n",
              "    </tr>\n",
              "  </tbody>\n",
              "</table>\n",
              "</div>\n",
              "    <div class=\"colab-df-buttons\">\n",
              "\n",
              "  <div class=\"colab-df-container\">\n",
              "    <button class=\"colab-df-convert\" onclick=\"convertToInteractive('df-7821386a-888b-41d9-a80e-b85baa44129b')\"\n",
              "            title=\"Convert this dataframe to an interactive table.\"\n",
              "            style=\"display:none;\">\n",
              "\n",
              "  <svg xmlns=\"http://www.w3.org/2000/svg\" height=\"24px\" viewBox=\"0 -960 960 960\">\n",
              "    <path d=\"M120-120v-720h720v720H120Zm60-500h600v-160H180v160Zm220 220h160v-160H400v160Zm0 220h160v-160H400v160ZM180-400h160v-160H180v160Zm440 0h160v-160H620v160ZM180-180h160v-160H180v160Zm440 0h160v-160H620v160Z\"/>\n",
              "  </svg>\n",
              "    </button>\n",
              "\n",
              "  <style>\n",
              "    .colab-df-container {\n",
              "      display:flex;\n",
              "      gap: 12px;\n",
              "    }\n",
              "\n",
              "    .colab-df-convert {\n",
              "      background-color: #E8F0FE;\n",
              "      border: none;\n",
              "      border-radius: 50%;\n",
              "      cursor: pointer;\n",
              "      display: none;\n",
              "      fill: #1967D2;\n",
              "      height: 32px;\n",
              "      padding: 0 0 0 0;\n",
              "      width: 32px;\n",
              "    }\n",
              "\n",
              "    .colab-df-convert:hover {\n",
              "      background-color: #E2EBFA;\n",
              "      box-shadow: 0px 1px 2px rgba(60, 64, 67, 0.3), 0px 1px 3px 1px rgba(60, 64, 67, 0.15);\n",
              "      fill: #174EA6;\n",
              "    }\n",
              "\n",
              "    .colab-df-buttons div {\n",
              "      margin-bottom: 4px;\n",
              "    }\n",
              "\n",
              "    [theme=dark] .colab-df-convert {\n",
              "      background-color: #3B4455;\n",
              "      fill: #D2E3FC;\n",
              "    }\n",
              "\n",
              "    [theme=dark] .colab-df-convert:hover {\n",
              "      background-color: #434B5C;\n",
              "      box-shadow: 0px 1px 3px 1px rgba(0, 0, 0, 0.15);\n",
              "      filter: drop-shadow(0px 1px 2px rgba(0, 0, 0, 0.3));\n",
              "      fill: #FFFFFF;\n",
              "    }\n",
              "  </style>\n",
              "\n",
              "    <script>\n",
              "      const buttonEl =\n",
              "        document.querySelector('#df-7821386a-888b-41d9-a80e-b85baa44129b button.colab-df-convert');\n",
              "      buttonEl.style.display =\n",
              "        google.colab.kernel.accessAllowed ? 'block' : 'none';\n",
              "\n",
              "      async function convertToInteractive(key) {\n",
              "        const element = document.querySelector('#df-7821386a-888b-41d9-a80e-b85baa44129b');\n",
              "        const dataTable =\n",
              "          await google.colab.kernel.invokeFunction('convertToInteractive',\n",
              "                                                    [key], {});\n",
              "        if (!dataTable) return;\n",
              "\n",
              "        const docLinkHtml = 'Like what you see? Visit the ' +\n",
              "          '<a target=\"_blank\" href=https://colab.research.google.com/notebooks/data_table.ipynb>data table notebook</a>'\n",
              "          + ' to learn more about interactive tables.';\n",
              "        element.innerHTML = '';\n",
              "        dataTable['output_type'] = 'display_data';\n",
              "        await google.colab.output.renderOutput(dataTable, element);\n",
              "        const docLink = document.createElement('div');\n",
              "        docLink.innerHTML = docLinkHtml;\n",
              "        element.appendChild(docLink);\n",
              "      }\n",
              "    </script>\n",
              "  </div>\n",
              "\n",
              "\n",
              "<div id=\"df-812ea03d-e697-4880-a571-faebbc484d3f\">\n",
              "  <button class=\"colab-df-quickchart\" onclick=\"quickchart('df-812ea03d-e697-4880-a571-faebbc484d3f')\"\n",
              "            title=\"Suggest charts\"\n",
              "            style=\"display:none;\">\n",
              "\n",
              "<svg xmlns=\"http://www.w3.org/2000/svg\" height=\"24px\"viewBox=\"0 0 24 24\"\n",
              "     width=\"24px\">\n",
              "    <g>\n",
              "        <path d=\"M19 3H5c-1.1 0-2 .9-2 2v14c0 1.1.9 2 2 2h14c1.1 0 2-.9 2-2V5c0-1.1-.9-2-2-2zM9 17H7v-7h2v7zm4 0h-2V7h2v10zm4 0h-2v-4h2v4z\"/>\n",
              "    </g>\n",
              "</svg>\n",
              "  </button>\n",
              "\n",
              "<style>\n",
              "  .colab-df-quickchart {\n",
              "      --bg-color: #E8F0FE;\n",
              "      --fill-color: #1967D2;\n",
              "      --hover-bg-color: #E2EBFA;\n",
              "      --hover-fill-color: #174EA6;\n",
              "      --disabled-fill-color: #AAA;\n",
              "      --disabled-bg-color: #DDD;\n",
              "  }\n",
              "\n",
              "  [theme=dark] .colab-df-quickchart {\n",
              "      --bg-color: #3B4455;\n",
              "      --fill-color: #D2E3FC;\n",
              "      --hover-bg-color: #434B5C;\n",
              "      --hover-fill-color: #FFFFFF;\n",
              "      --disabled-bg-color: #3B4455;\n",
              "      --disabled-fill-color: #666;\n",
              "  }\n",
              "\n",
              "  .colab-df-quickchart {\n",
              "    background-color: var(--bg-color);\n",
              "    border: none;\n",
              "    border-radius: 50%;\n",
              "    cursor: pointer;\n",
              "    display: none;\n",
              "    fill: var(--fill-color);\n",
              "    height: 32px;\n",
              "    padding: 0;\n",
              "    width: 32px;\n",
              "  }\n",
              "\n",
              "  .colab-df-quickchart:hover {\n",
              "    background-color: var(--hover-bg-color);\n",
              "    box-shadow: 0 1px 2px rgba(60, 64, 67, 0.3), 0 1px 3px 1px rgba(60, 64, 67, 0.15);\n",
              "    fill: var(--button-hover-fill-color);\n",
              "  }\n",
              "\n",
              "  .colab-df-quickchart-complete:disabled,\n",
              "  .colab-df-quickchart-complete:disabled:hover {\n",
              "    background-color: var(--disabled-bg-color);\n",
              "    fill: var(--disabled-fill-color);\n",
              "    box-shadow: none;\n",
              "  }\n",
              "\n",
              "  .colab-df-spinner {\n",
              "    border: 2px solid var(--fill-color);\n",
              "    border-color: transparent;\n",
              "    border-bottom-color: var(--fill-color);\n",
              "    animation:\n",
              "      spin 1s steps(1) infinite;\n",
              "  }\n",
              "\n",
              "  @keyframes spin {\n",
              "    0% {\n",
              "      border-color: transparent;\n",
              "      border-bottom-color: var(--fill-color);\n",
              "      border-left-color: var(--fill-color);\n",
              "    }\n",
              "    20% {\n",
              "      border-color: transparent;\n",
              "      border-left-color: var(--fill-color);\n",
              "      border-top-color: var(--fill-color);\n",
              "    }\n",
              "    30% {\n",
              "      border-color: transparent;\n",
              "      border-left-color: var(--fill-color);\n",
              "      border-top-color: var(--fill-color);\n",
              "      border-right-color: var(--fill-color);\n",
              "    }\n",
              "    40% {\n",
              "      border-color: transparent;\n",
              "      border-right-color: var(--fill-color);\n",
              "      border-top-color: var(--fill-color);\n",
              "    }\n",
              "    60% {\n",
              "      border-color: transparent;\n",
              "      border-right-color: var(--fill-color);\n",
              "    }\n",
              "    80% {\n",
              "      border-color: transparent;\n",
              "      border-right-color: var(--fill-color);\n",
              "      border-bottom-color: var(--fill-color);\n",
              "    }\n",
              "    90% {\n",
              "      border-color: transparent;\n",
              "      border-bottom-color: var(--fill-color);\n",
              "    }\n",
              "  }\n",
              "</style>\n",
              "\n",
              "  <script>\n",
              "    async function quickchart(key) {\n",
              "      const quickchartButtonEl =\n",
              "        document.querySelector('#' + key + ' button');\n",
              "      quickchartButtonEl.disabled = true;  // To prevent multiple clicks.\n",
              "      quickchartButtonEl.classList.add('colab-df-spinner');\n",
              "      try {\n",
              "        const charts = await google.colab.kernel.invokeFunction(\n",
              "            'suggestCharts', [key], {});\n",
              "      } catch (error) {\n",
              "        console.error('Error during call to suggestCharts:', error);\n",
              "      }\n",
              "      quickchartButtonEl.classList.remove('colab-df-spinner');\n",
              "      quickchartButtonEl.classList.add('colab-df-quickchart-complete');\n",
              "    }\n",
              "    (() => {\n",
              "      let quickchartButtonEl =\n",
              "        document.querySelector('#df-812ea03d-e697-4880-a571-faebbc484d3f button');\n",
              "      quickchartButtonEl.style.display =\n",
              "        google.colab.kernel.accessAllowed ? 'block' : 'none';\n",
              "    })();\n",
              "  </script>\n",
              "</div>\n",
              "\n",
              "    </div>\n",
              "  </div>\n"
            ],
            "application/vnd.google.colaboratory.intrinsic+json": {
              "type": "dataframe",
              "variable_name": "data",
              "summary": "{\n  \"name\": \"data\",\n  \"rows\": 8,\n  \"fields\": [\n    {\n      \"column\": \"X1\",\n      \"properties\": {\n        \"dtype\": \"number\",\n        \"std\": 0.2449489742783178,\n        \"min\": 0.1,\n        \"max\": 0.8,\n        \"num_unique_values\": 8,\n        \"samples\": [\n          0.4,\n          0.3,\n          0.2\n        ],\n        \"semantic_type\": \"\",\n        \"description\": \"\"\n      }\n    },\n    {\n      \"column\": \"X2\",\n      \"properties\": {\n        \"dtype\": \"number\",\n        \"std\": 0.24494897427831783,\n        \"min\": 0.1,\n        \"max\": 0.8,\n        \"num_unique_values\": 8,\n        \"samples\": [\n          0.3,\n          0.4,\n          0.1\n        ],\n        \"semantic_type\": \"\",\n        \"description\": \"\"\n      }\n    },\n    {\n      \"column\": \"Y\",\n      \"properties\": {\n        \"dtype\": \"number\",\n        \"std\": 1.1964232409262916,\n        \"min\": 4.7,\n        \"max\": 7.8,\n        \"num_unique_values\": 8,\n        \"samples\": [\n          5.7,\n          5.8,\n          4.7\n        ],\n        \"semantic_type\": \"\",\n        \"description\": \"\"\n      }\n    }\n  ]\n}"
            }
          },
          "metadata": {},
          "execution_count": 3
        }
      ]
    },
    {
      "cell_type": "markdown",
      "metadata": {
        "id": "llJ7qwfBM9DR"
      },
      "source": [
        "## *Outliers Detection*"
      ]
    },
    {
      "cell_type": "code",
      "metadata": {
        "id": "36jCyPnaM33Q"
      },
      "source": [
        "outliers = []\n",
        "def detect_outliers_zscore(data):\n",
        "    thres = 3\n",
        "    mean = np.mean(data)\n",
        "    std = np.std(data)\n",
        "    # print(mean, std)\n",
        "    for i in data:\n",
        "        z_score = (i-mean)/std\n",
        "        if (np.abs(z_score) > thres):\n",
        "            outliers.append(i)\n",
        "    return outliers# Driver code"
      ],
      "execution_count": 4,
      "outputs": []
    },
    {
      "cell_type": "code",
      "metadata": {
        "colab": {
          "base_uri": "https://localhost:8080/"
        },
        "id": "_wSbM_GtM_bA",
        "outputId": "de5691a6-c669-4687-aa00-a043bf435bfd"
      },
      "source": [
        "sample_outliers_X1 = detect_outliers_zscore(data['X1'])\n",
        "sample_outliers_X2 = detect_outliers_zscore(data['X2'])\n",
        "sample_outliers_Y = detect_outliers_zscore(data['Y'])\n",
        "print(\"Outliers in X1 column from Z-scores method: \", sample_outliers_X1)\n",
        "print(\"Outliers in X2 column from Z-scores method: \", sample_outliers_X2)\n",
        "print(\"Outliers in Y column from Z-scores method: \", sample_outliers_Y)"
      ],
      "execution_count": 5,
      "outputs": [
        {
          "output_type": "stream",
          "name": "stdout",
          "text": [
            "Outliers in X1 column from Z-scores method:  []\n",
            "Outliers in X2 column from Z-scores method:  []\n",
            "Outliers in Y column from Z-scores method:  []\n"
          ]
        }
      ]
    },
    {
      "cell_type": "markdown",
      "metadata": {
        "id": "7IROAKZInnza"
      },
      "source": [
        "# Outlier Detection and Treatment"
      ]
    },
    {
      "cell_type": "code",
      "metadata": {
        "colab": {
          "base_uri": "https://localhost:8080/",
          "height": 300
        },
        "id": "bpMofolynur5",
        "outputId": "330cbce8-bcc9-48e0-8814-16777ba211cf"
      },
      "source": [
        "from scipy.stats import zscore\n",
        "z1 = np.abs(zscore(data['X1']))\n",
        "z2 = np.abs(zscore(data['X2']))\n",
        "data['ZscoreX1'] = z1\n",
        "data['ZscoreX2'] = z2\n",
        "outliers_A=len(data[data['ZscoreX1']>3])\n",
        "outliers_B=len(data[data['ZscoreX2']>3])\n",
        "data_z = data[data['ZscoreX1']<3]\n",
        "data_z = data[data['ZscoreX2']<3]\n",
        "data=data_z.drop(['ZscoreX1', 'ZscoreX2'], axis=1)\n",
        "data"
      ],
      "execution_count": 6,
      "outputs": [
        {
          "output_type": "execute_result",
          "data": {
            "text/plain": [
              "    X1   X2    Y\n",
              "0  0.2  0.1  4.7\n",
              "1  0.4  0.3  5.7\n",
              "2  0.6  0.5  6.7\n",
              "3  0.8  0.7  7.7\n",
              "4  0.1  0.2  4.8\n",
              "5  0.3  0.4  5.8\n",
              "6  0.5  0.6  6.8\n",
              "7  0.7  0.8  7.8"
            ],
            "text/html": [
              "\n",
              "  <div id=\"df-f33a1b66-4ed7-4486-bdc9-23431cdd03b4\" class=\"colab-df-container\">\n",
              "    <div>\n",
              "<style scoped>\n",
              "    .dataframe tbody tr th:only-of-type {\n",
              "        vertical-align: middle;\n",
              "    }\n",
              "\n",
              "    .dataframe tbody tr th {\n",
              "        vertical-align: top;\n",
              "    }\n",
              "\n",
              "    .dataframe thead th {\n",
              "        text-align: right;\n",
              "    }\n",
              "</style>\n",
              "<table border=\"1\" class=\"dataframe\">\n",
              "  <thead>\n",
              "    <tr style=\"text-align: right;\">\n",
              "      <th></th>\n",
              "      <th>X1</th>\n",
              "      <th>X2</th>\n",
              "      <th>Y</th>\n",
              "    </tr>\n",
              "  </thead>\n",
              "  <tbody>\n",
              "    <tr>\n",
              "      <th>0</th>\n",
              "      <td>0.2</td>\n",
              "      <td>0.1</td>\n",
              "      <td>4.7</td>\n",
              "    </tr>\n",
              "    <tr>\n",
              "      <th>1</th>\n",
              "      <td>0.4</td>\n",
              "      <td>0.3</td>\n",
              "      <td>5.7</td>\n",
              "    </tr>\n",
              "    <tr>\n",
              "      <th>2</th>\n",
              "      <td>0.6</td>\n",
              "      <td>0.5</td>\n",
              "      <td>6.7</td>\n",
              "    </tr>\n",
              "    <tr>\n",
              "      <th>3</th>\n",
              "      <td>0.8</td>\n",
              "      <td>0.7</td>\n",
              "      <td>7.7</td>\n",
              "    </tr>\n",
              "    <tr>\n",
              "      <th>4</th>\n",
              "      <td>0.1</td>\n",
              "      <td>0.2</td>\n",
              "      <td>4.8</td>\n",
              "    </tr>\n",
              "    <tr>\n",
              "      <th>5</th>\n",
              "      <td>0.3</td>\n",
              "      <td>0.4</td>\n",
              "      <td>5.8</td>\n",
              "    </tr>\n",
              "    <tr>\n",
              "      <th>6</th>\n",
              "      <td>0.5</td>\n",
              "      <td>0.6</td>\n",
              "      <td>6.8</td>\n",
              "    </tr>\n",
              "    <tr>\n",
              "      <th>7</th>\n",
              "      <td>0.7</td>\n",
              "      <td>0.8</td>\n",
              "      <td>7.8</td>\n",
              "    </tr>\n",
              "  </tbody>\n",
              "</table>\n",
              "</div>\n",
              "    <div class=\"colab-df-buttons\">\n",
              "\n",
              "  <div class=\"colab-df-container\">\n",
              "    <button class=\"colab-df-convert\" onclick=\"convertToInteractive('df-f33a1b66-4ed7-4486-bdc9-23431cdd03b4')\"\n",
              "            title=\"Convert this dataframe to an interactive table.\"\n",
              "            style=\"display:none;\">\n",
              "\n",
              "  <svg xmlns=\"http://www.w3.org/2000/svg\" height=\"24px\" viewBox=\"0 -960 960 960\">\n",
              "    <path d=\"M120-120v-720h720v720H120Zm60-500h600v-160H180v160Zm220 220h160v-160H400v160Zm0 220h160v-160H400v160ZM180-400h160v-160H180v160Zm440 0h160v-160H620v160ZM180-180h160v-160H180v160Zm440 0h160v-160H620v160Z\"/>\n",
              "  </svg>\n",
              "    </button>\n",
              "\n",
              "  <style>\n",
              "    .colab-df-container {\n",
              "      display:flex;\n",
              "      gap: 12px;\n",
              "    }\n",
              "\n",
              "    .colab-df-convert {\n",
              "      background-color: #E8F0FE;\n",
              "      border: none;\n",
              "      border-radius: 50%;\n",
              "      cursor: pointer;\n",
              "      display: none;\n",
              "      fill: #1967D2;\n",
              "      height: 32px;\n",
              "      padding: 0 0 0 0;\n",
              "      width: 32px;\n",
              "    }\n",
              "\n",
              "    .colab-df-convert:hover {\n",
              "      background-color: #E2EBFA;\n",
              "      box-shadow: 0px 1px 2px rgba(60, 64, 67, 0.3), 0px 1px 3px 1px rgba(60, 64, 67, 0.15);\n",
              "      fill: #174EA6;\n",
              "    }\n",
              "\n",
              "    .colab-df-buttons div {\n",
              "      margin-bottom: 4px;\n",
              "    }\n",
              "\n",
              "    [theme=dark] .colab-df-convert {\n",
              "      background-color: #3B4455;\n",
              "      fill: #D2E3FC;\n",
              "    }\n",
              "\n",
              "    [theme=dark] .colab-df-convert:hover {\n",
              "      background-color: #434B5C;\n",
              "      box-shadow: 0px 1px 3px 1px rgba(0, 0, 0, 0.15);\n",
              "      filter: drop-shadow(0px 1px 2px rgba(0, 0, 0, 0.3));\n",
              "      fill: #FFFFFF;\n",
              "    }\n",
              "  </style>\n",
              "\n",
              "    <script>\n",
              "      const buttonEl =\n",
              "        document.querySelector('#df-f33a1b66-4ed7-4486-bdc9-23431cdd03b4 button.colab-df-convert');\n",
              "      buttonEl.style.display =\n",
              "        google.colab.kernel.accessAllowed ? 'block' : 'none';\n",
              "\n",
              "      async function convertToInteractive(key) {\n",
              "        const element = document.querySelector('#df-f33a1b66-4ed7-4486-bdc9-23431cdd03b4');\n",
              "        const dataTable =\n",
              "          await google.colab.kernel.invokeFunction('convertToInteractive',\n",
              "                                                    [key], {});\n",
              "        if (!dataTable) return;\n",
              "\n",
              "        const docLinkHtml = 'Like what you see? Visit the ' +\n",
              "          '<a target=\"_blank\" href=https://colab.research.google.com/notebooks/data_table.ipynb>data table notebook</a>'\n",
              "          + ' to learn more about interactive tables.';\n",
              "        element.innerHTML = '';\n",
              "        dataTable['output_type'] = 'display_data';\n",
              "        await google.colab.output.renderOutput(dataTable, element);\n",
              "        const docLink = document.createElement('div');\n",
              "        docLink.innerHTML = docLinkHtml;\n",
              "        element.appendChild(docLink);\n",
              "      }\n",
              "    </script>\n",
              "  </div>\n",
              "\n",
              "\n",
              "<div id=\"df-7724aa6a-dd1d-4740-9abe-edf01d594966\">\n",
              "  <button class=\"colab-df-quickchart\" onclick=\"quickchart('df-7724aa6a-dd1d-4740-9abe-edf01d594966')\"\n",
              "            title=\"Suggest charts\"\n",
              "            style=\"display:none;\">\n",
              "\n",
              "<svg xmlns=\"http://www.w3.org/2000/svg\" height=\"24px\"viewBox=\"0 0 24 24\"\n",
              "     width=\"24px\">\n",
              "    <g>\n",
              "        <path d=\"M19 3H5c-1.1 0-2 .9-2 2v14c0 1.1.9 2 2 2h14c1.1 0 2-.9 2-2V5c0-1.1-.9-2-2-2zM9 17H7v-7h2v7zm4 0h-2V7h2v10zm4 0h-2v-4h2v4z\"/>\n",
              "    </g>\n",
              "</svg>\n",
              "  </button>\n",
              "\n",
              "<style>\n",
              "  .colab-df-quickchart {\n",
              "      --bg-color: #E8F0FE;\n",
              "      --fill-color: #1967D2;\n",
              "      --hover-bg-color: #E2EBFA;\n",
              "      --hover-fill-color: #174EA6;\n",
              "      --disabled-fill-color: #AAA;\n",
              "      --disabled-bg-color: #DDD;\n",
              "  }\n",
              "\n",
              "  [theme=dark] .colab-df-quickchart {\n",
              "      --bg-color: #3B4455;\n",
              "      --fill-color: #D2E3FC;\n",
              "      --hover-bg-color: #434B5C;\n",
              "      --hover-fill-color: #FFFFFF;\n",
              "      --disabled-bg-color: #3B4455;\n",
              "      --disabled-fill-color: #666;\n",
              "  }\n",
              "\n",
              "  .colab-df-quickchart {\n",
              "    background-color: var(--bg-color);\n",
              "    border: none;\n",
              "    border-radius: 50%;\n",
              "    cursor: pointer;\n",
              "    display: none;\n",
              "    fill: var(--fill-color);\n",
              "    height: 32px;\n",
              "    padding: 0;\n",
              "    width: 32px;\n",
              "  }\n",
              "\n",
              "  .colab-df-quickchart:hover {\n",
              "    background-color: var(--hover-bg-color);\n",
              "    box-shadow: 0 1px 2px rgba(60, 64, 67, 0.3), 0 1px 3px 1px rgba(60, 64, 67, 0.15);\n",
              "    fill: var(--button-hover-fill-color);\n",
              "  }\n",
              "\n",
              "  .colab-df-quickchart-complete:disabled,\n",
              "  .colab-df-quickchart-complete:disabled:hover {\n",
              "    background-color: var(--disabled-bg-color);\n",
              "    fill: var(--disabled-fill-color);\n",
              "    box-shadow: none;\n",
              "  }\n",
              "\n",
              "  .colab-df-spinner {\n",
              "    border: 2px solid var(--fill-color);\n",
              "    border-color: transparent;\n",
              "    border-bottom-color: var(--fill-color);\n",
              "    animation:\n",
              "      spin 1s steps(1) infinite;\n",
              "  }\n",
              "\n",
              "  @keyframes spin {\n",
              "    0% {\n",
              "      border-color: transparent;\n",
              "      border-bottom-color: var(--fill-color);\n",
              "      border-left-color: var(--fill-color);\n",
              "    }\n",
              "    20% {\n",
              "      border-color: transparent;\n",
              "      border-left-color: var(--fill-color);\n",
              "      border-top-color: var(--fill-color);\n",
              "    }\n",
              "    30% {\n",
              "      border-color: transparent;\n",
              "      border-left-color: var(--fill-color);\n",
              "      border-top-color: var(--fill-color);\n",
              "      border-right-color: var(--fill-color);\n",
              "    }\n",
              "    40% {\n",
              "      border-color: transparent;\n",
              "      border-right-color: var(--fill-color);\n",
              "      border-top-color: var(--fill-color);\n",
              "    }\n",
              "    60% {\n",
              "      border-color: transparent;\n",
              "      border-right-color: var(--fill-color);\n",
              "    }\n",
              "    80% {\n",
              "      border-color: transparent;\n",
              "      border-right-color: var(--fill-color);\n",
              "      border-bottom-color: var(--fill-color);\n",
              "    }\n",
              "    90% {\n",
              "      border-color: transparent;\n",
              "      border-bottom-color: var(--fill-color);\n",
              "    }\n",
              "  }\n",
              "</style>\n",
              "\n",
              "  <script>\n",
              "    async function quickchart(key) {\n",
              "      const quickchartButtonEl =\n",
              "        document.querySelector('#' + key + ' button');\n",
              "      quickchartButtonEl.disabled = true;  // To prevent multiple clicks.\n",
              "      quickchartButtonEl.classList.add('colab-df-spinner');\n",
              "      try {\n",
              "        const charts = await google.colab.kernel.invokeFunction(\n",
              "            'suggestCharts', [key], {});\n",
              "      } catch (error) {\n",
              "        console.error('Error during call to suggestCharts:', error);\n",
              "      }\n",
              "      quickchartButtonEl.classList.remove('colab-df-spinner');\n",
              "      quickchartButtonEl.classList.add('colab-df-quickchart-complete');\n",
              "    }\n",
              "    (() => {\n",
              "      let quickchartButtonEl =\n",
              "        document.querySelector('#df-7724aa6a-dd1d-4740-9abe-edf01d594966 button');\n",
              "      quickchartButtonEl.style.display =\n",
              "        google.colab.kernel.accessAllowed ? 'block' : 'none';\n",
              "    })();\n",
              "  </script>\n",
              "</div>\n",
              "\n",
              "  <div id=\"id_84bde788-cbbb-4bd5-9b99-917bdb3f6c28\">\n",
              "    <style>\n",
              "      .colab-df-generate {\n",
              "        background-color: #E8F0FE;\n",
              "        border: none;\n",
              "        border-radius: 50%;\n",
              "        cursor: pointer;\n",
              "        display: none;\n",
              "        fill: #1967D2;\n",
              "        height: 32px;\n",
              "        padding: 0 0 0 0;\n",
              "        width: 32px;\n",
              "      }\n",
              "\n",
              "      .colab-df-generate:hover {\n",
              "        background-color: #E2EBFA;\n",
              "        box-shadow: 0px 1px 2px rgba(60, 64, 67, 0.3), 0px 1px 3px 1px rgba(60, 64, 67, 0.15);\n",
              "        fill: #174EA6;\n",
              "      }\n",
              "\n",
              "      [theme=dark] .colab-df-generate {\n",
              "        background-color: #3B4455;\n",
              "        fill: #D2E3FC;\n",
              "      }\n",
              "\n",
              "      [theme=dark] .colab-df-generate:hover {\n",
              "        background-color: #434B5C;\n",
              "        box-shadow: 0px 1px 3px 1px rgba(0, 0, 0, 0.15);\n",
              "        filter: drop-shadow(0px 1px 2px rgba(0, 0, 0, 0.3));\n",
              "        fill: #FFFFFF;\n",
              "      }\n",
              "    </style>\n",
              "    <button class=\"colab-df-generate\" onclick=\"generateWithVariable('data')\"\n",
              "            title=\"Generate code using this dataframe.\"\n",
              "            style=\"display:none;\">\n",
              "\n",
              "  <svg xmlns=\"http://www.w3.org/2000/svg\" height=\"24px\"viewBox=\"0 0 24 24\"\n",
              "       width=\"24px\">\n",
              "    <path d=\"M7,19H8.4L18.45,9,17,7.55,7,17.6ZM5,21V16.75L18.45,3.32a2,2,0,0,1,2.83,0l1.4,1.43a1.91,1.91,0,0,1,.58,1.4,1.91,1.91,0,0,1-.58,1.4L9.25,21ZM18.45,9,17,7.55Zm-12,3A5.31,5.31,0,0,0,4.9,8.1,5.31,5.31,0,0,0,1,6.5,5.31,5.31,0,0,0,4.9,4.9,5.31,5.31,0,0,0,6.5,1,5.31,5.31,0,0,0,8.1,4.9,5.31,5.31,0,0,0,12,6.5,5.46,5.46,0,0,0,6.5,12Z\"/>\n",
              "  </svg>\n",
              "    </button>\n",
              "    <script>\n",
              "      (() => {\n",
              "      const buttonEl =\n",
              "        document.querySelector('#id_84bde788-cbbb-4bd5-9b99-917bdb3f6c28 button.colab-df-generate');\n",
              "      buttonEl.style.display =\n",
              "        google.colab.kernel.accessAllowed ? 'block' : 'none';\n",
              "\n",
              "      buttonEl.onclick = () => {\n",
              "        google.colab.notebook.generateWithVariable('data');\n",
              "      }\n",
              "      })();\n",
              "    </script>\n",
              "  </div>\n",
              "\n",
              "    </div>\n",
              "  </div>\n"
            ],
            "application/vnd.google.colaboratory.intrinsic+json": {
              "type": "dataframe",
              "variable_name": "data",
              "summary": "{\n  \"name\": \"data\",\n  \"rows\": 8,\n  \"fields\": [\n    {\n      \"column\": \"X1\",\n      \"properties\": {\n        \"dtype\": \"number\",\n        \"std\": 0.2449489742783178,\n        \"min\": 0.1,\n        \"max\": 0.8,\n        \"num_unique_values\": 8,\n        \"samples\": [\n          0.4,\n          0.3,\n          0.2\n        ],\n        \"semantic_type\": \"\",\n        \"description\": \"\"\n      }\n    },\n    {\n      \"column\": \"X2\",\n      \"properties\": {\n        \"dtype\": \"number\",\n        \"std\": 0.24494897427831783,\n        \"min\": 0.1,\n        \"max\": 0.8,\n        \"num_unique_values\": 8,\n        \"samples\": [\n          0.3,\n          0.4,\n          0.1\n        ],\n        \"semantic_type\": \"\",\n        \"description\": \"\"\n      }\n    },\n    {\n      \"column\": \"Y\",\n      \"properties\": {\n        \"dtype\": \"number\",\n        \"std\": 1.1964232409262916,\n        \"min\": 4.7,\n        \"max\": 7.8,\n        \"num_unique_values\": 8,\n        \"samples\": [\n          5.7,\n          5.8,\n          4.7\n        ],\n        \"semantic_type\": \"\",\n        \"description\": \"\"\n      }\n    }\n  ]\n}"
            }
          },
          "metadata": {},
          "execution_count": 6
        }
      ]
    },
    {
      "cell_type": "markdown",
      "metadata": {
        "id": "Vay2R8ZlNc5q"
      },
      "source": [
        "## Missing Values Treatment"
      ]
    },
    {
      "cell_type": "code",
      "metadata": {
        "colab": {
          "base_uri": "https://localhost:8080/"
        },
        "id": "I1aGajBjNKvh",
        "outputId": "b6a7f159-c27f-492d-d057-3c35cc42f2f3"
      },
      "source": [
        "print(data.isnull().sum())"
      ],
      "execution_count": 7,
      "outputs": [
        {
          "output_type": "stream",
          "name": "stdout",
          "text": [
            "X1    0\n",
            "X2    0\n",
            "Y     0\n",
            "dtype: int64\n"
          ]
        }
      ]
    },
    {
      "cell_type": "code",
      "metadata": {
        "colab": {
          "base_uri": "https://localhost:8080/",
          "height": 688
        },
        "id": "xEykIsJINfHA",
        "outputId": "4484edf7-e6f2-4752-bf47-a78ff2205cad"
      },
      "source": [
        "m1=data['X1'].mean()\n",
        "m2=data['X2'].mean()\n",
        "m3=data['Y'].mean()\n",
        "data['X1'].fillna(value=m1, inplace=True)\n",
        "data['X2'].fillna(value=m2, inplace=True)\n",
        "data['Y'].fillna(value=m3, inplace=True)\n",
        "data"
      ],
      "execution_count": 8,
      "outputs": [
        {
          "output_type": "stream",
          "name": "stderr",
          "text": [
            "<ipython-input-8-203af371add7>:4: FutureWarning: A value is trying to be set on a copy of a DataFrame or Series through chained assignment using an inplace method.\n",
            "The behavior will change in pandas 3.0. This inplace method will never work because the intermediate object on which we are setting values always behaves as a copy.\n",
            "\n",
            "For example, when doing 'df[col].method(value, inplace=True)', try using 'df.method({col: value}, inplace=True)' or df[col] = df[col].method(value) instead, to perform the operation inplace on the original object.\n",
            "\n",
            "\n",
            "  data['X1'].fillna(value=m1, inplace=True)\n",
            "<ipython-input-8-203af371add7>:5: FutureWarning: A value is trying to be set on a copy of a DataFrame or Series through chained assignment using an inplace method.\n",
            "The behavior will change in pandas 3.0. This inplace method will never work because the intermediate object on which we are setting values always behaves as a copy.\n",
            "\n",
            "For example, when doing 'df[col].method(value, inplace=True)', try using 'df.method({col: value}, inplace=True)' or df[col] = df[col].method(value) instead, to perform the operation inplace on the original object.\n",
            "\n",
            "\n",
            "  data['X2'].fillna(value=m2, inplace=True)\n",
            "<ipython-input-8-203af371add7>:6: FutureWarning: A value is trying to be set on a copy of a DataFrame or Series through chained assignment using an inplace method.\n",
            "The behavior will change in pandas 3.0. This inplace method will never work because the intermediate object on which we are setting values always behaves as a copy.\n",
            "\n",
            "For example, when doing 'df[col].method(value, inplace=True)', try using 'df.method({col: value}, inplace=True)' or df[col] = df[col].method(value) instead, to perform the operation inplace on the original object.\n",
            "\n",
            "\n",
            "  data['Y'].fillna(value=m3, inplace=True)\n"
          ]
        },
        {
          "output_type": "execute_result",
          "data": {
            "text/plain": [
              "    X1   X2    Y\n",
              "0  0.2  0.1  4.7\n",
              "1  0.4  0.3  5.7\n",
              "2  0.6  0.5  6.7\n",
              "3  0.8  0.7  7.7\n",
              "4  0.1  0.2  4.8\n",
              "5  0.3  0.4  5.8\n",
              "6  0.5  0.6  6.8\n",
              "7  0.7  0.8  7.8"
            ],
            "text/html": [
              "\n",
              "  <div id=\"df-38794f02-db93-4963-8088-154268591b95\" class=\"colab-df-container\">\n",
              "    <div>\n",
              "<style scoped>\n",
              "    .dataframe tbody tr th:only-of-type {\n",
              "        vertical-align: middle;\n",
              "    }\n",
              "\n",
              "    .dataframe tbody tr th {\n",
              "        vertical-align: top;\n",
              "    }\n",
              "\n",
              "    .dataframe thead th {\n",
              "        text-align: right;\n",
              "    }\n",
              "</style>\n",
              "<table border=\"1\" class=\"dataframe\">\n",
              "  <thead>\n",
              "    <tr style=\"text-align: right;\">\n",
              "      <th></th>\n",
              "      <th>X1</th>\n",
              "      <th>X2</th>\n",
              "      <th>Y</th>\n",
              "    </tr>\n",
              "  </thead>\n",
              "  <tbody>\n",
              "    <tr>\n",
              "      <th>0</th>\n",
              "      <td>0.2</td>\n",
              "      <td>0.1</td>\n",
              "      <td>4.7</td>\n",
              "    </tr>\n",
              "    <tr>\n",
              "      <th>1</th>\n",
              "      <td>0.4</td>\n",
              "      <td>0.3</td>\n",
              "      <td>5.7</td>\n",
              "    </tr>\n",
              "    <tr>\n",
              "      <th>2</th>\n",
              "      <td>0.6</td>\n",
              "      <td>0.5</td>\n",
              "      <td>6.7</td>\n",
              "    </tr>\n",
              "    <tr>\n",
              "      <th>3</th>\n",
              "      <td>0.8</td>\n",
              "      <td>0.7</td>\n",
              "      <td>7.7</td>\n",
              "    </tr>\n",
              "    <tr>\n",
              "      <th>4</th>\n",
              "      <td>0.1</td>\n",
              "      <td>0.2</td>\n",
              "      <td>4.8</td>\n",
              "    </tr>\n",
              "    <tr>\n",
              "      <th>5</th>\n",
              "      <td>0.3</td>\n",
              "      <td>0.4</td>\n",
              "      <td>5.8</td>\n",
              "    </tr>\n",
              "    <tr>\n",
              "      <th>6</th>\n",
              "      <td>0.5</td>\n",
              "      <td>0.6</td>\n",
              "      <td>6.8</td>\n",
              "    </tr>\n",
              "    <tr>\n",
              "      <th>7</th>\n",
              "      <td>0.7</td>\n",
              "      <td>0.8</td>\n",
              "      <td>7.8</td>\n",
              "    </tr>\n",
              "  </tbody>\n",
              "</table>\n",
              "</div>\n",
              "    <div class=\"colab-df-buttons\">\n",
              "\n",
              "  <div class=\"colab-df-container\">\n",
              "    <button class=\"colab-df-convert\" onclick=\"convertToInteractive('df-38794f02-db93-4963-8088-154268591b95')\"\n",
              "            title=\"Convert this dataframe to an interactive table.\"\n",
              "            style=\"display:none;\">\n",
              "\n",
              "  <svg xmlns=\"http://www.w3.org/2000/svg\" height=\"24px\" viewBox=\"0 -960 960 960\">\n",
              "    <path d=\"M120-120v-720h720v720H120Zm60-500h600v-160H180v160Zm220 220h160v-160H400v160Zm0 220h160v-160H400v160ZM180-400h160v-160H180v160Zm440 0h160v-160H620v160ZM180-180h160v-160H180v160Zm440 0h160v-160H620v160Z\"/>\n",
              "  </svg>\n",
              "    </button>\n",
              "\n",
              "  <style>\n",
              "    .colab-df-container {\n",
              "      display:flex;\n",
              "      gap: 12px;\n",
              "    }\n",
              "\n",
              "    .colab-df-convert {\n",
              "      background-color: #E8F0FE;\n",
              "      border: none;\n",
              "      border-radius: 50%;\n",
              "      cursor: pointer;\n",
              "      display: none;\n",
              "      fill: #1967D2;\n",
              "      height: 32px;\n",
              "      padding: 0 0 0 0;\n",
              "      width: 32px;\n",
              "    }\n",
              "\n",
              "    .colab-df-convert:hover {\n",
              "      background-color: #E2EBFA;\n",
              "      box-shadow: 0px 1px 2px rgba(60, 64, 67, 0.3), 0px 1px 3px 1px rgba(60, 64, 67, 0.15);\n",
              "      fill: #174EA6;\n",
              "    }\n",
              "\n",
              "    .colab-df-buttons div {\n",
              "      margin-bottom: 4px;\n",
              "    }\n",
              "\n",
              "    [theme=dark] .colab-df-convert {\n",
              "      background-color: #3B4455;\n",
              "      fill: #D2E3FC;\n",
              "    }\n",
              "\n",
              "    [theme=dark] .colab-df-convert:hover {\n",
              "      background-color: #434B5C;\n",
              "      box-shadow: 0px 1px 3px 1px rgba(0, 0, 0, 0.15);\n",
              "      filter: drop-shadow(0px 1px 2px rgba(0, 0, 0, 0.3));\n",
              "      fill: #FFFFFF;\n",
              "    }\n",
              "  </style>\n",
              "\n",
              "    <script>\n",
              "      const buttonEl =\n",
              "        document.querySelector('#df-38794f02-db93-4963-8088-154268591b95 button.colab-df-convert');\n",
              "      buttonEl.style.display =\n",
              "        google.colab.kernel.accessAllowed ? 'block' : 'none';\n",
              "\n",
              "      async function convertToInteractive(key) {\n",
              "        const element = document.querySelector('#df-38794f02-db93-4963-8088-154268591b95');\n",
              "        const dataTable =\n",
              "          await google.colab.kernel.invokeFunction('convertToInteractive',\n",
              "                                                    [key], {});\n",
              "        if (!dataTable) return;\n",
              "\n",
              "        const docLinkHtml = 'Like what you see? Visit the ' +\n",
              "          '<a target=\"_blank\" href=https://colab.research.google.com/notebooks/data_table.ipynb>data table notebook</a>'\n",
              "          + ' to learn more about interactive tables.';\n",
              "        element.innerHTML = '';\n",
              "        dataTable['output_type'] = 'display_data';\n",
              "        await google.colab.output.renderOutput(dataTable, element);\n",
              "        const docLink = document.createElement('div');\n",
              "        docLink.innerHTML = docLinkHtml;\n",
              "        element.appendChild(docLink);\n",
              "      }\n",
              "    </script>\n",
              "  </div>\n",
              "\n",
              "\n",
              "<div id=\"df-2070bbdc-2cbf-457c-8385-66ea0a138675\">\n",
              "  <button class=\"colab-df-quickchart\" onclick=\"quickchart('df-2070bbdc-2cbf-457c-8385-66ea0a138675')\"\n",
              "            title=\"Suggest charts\"\n",
              "            style=\"display:none;\">\n",
              "\n",
              "<svg xmlns=\"http://www.w3.org/2000/svg\" height=\"24px\"viewBox=\"0 0 24 24\"\n",
              "     width=\"24px\">\n",
              "    <g>\n",
              "        <path d=\"M19 3H5c-1.1 0-2 .9-2 2v14c0 1.1.9 2 2 2h14c1.1 0 2-.9 2-2V5c0-1.1-.9-2-2-2zM9 17H7v-7h2v7zm4 0h-2V7h2v10zm4 0h-2v-4h2v4z\"/>\n",
              "    </g>\n",
              "</svg>\n",
              "  </button>\n",
              "\n",
              "<style>\n",
              "  .colab-df-quickchart {\n",
              "      --bg-color: #E8F0FE;\n",
              "      --fill-color: #1967D2;\n",
              "      --hover-bg-color: #E2EBFA;\n",
              "      --hover-fill-color: #174EA6;\n",
              "      --disabled-fill-color: #AAA;\n",
              "      --disabled-bg-color: #DDD;\n",
              "  }\n",
              "\n",
              "  [theme=dark] .colab-df-quickchart {\n",
              "      --bg-color: #3B4455;\n",
              "      --fill-color: #D2E3FC;\n",
              "      --hover-bg-color: #434B5C;\n",
              "      --hover-fill-color: #FFFFFF;\n",
              "      --disabled-bg-color: #3B4455;\n",
              "      --disabled-fill-color: #666;\n",
              "  }\n",
              "\n",
              "  .colab-df-quickchart {\n",
              "    background-color: var(--bg-color);\n",
              "    border: none;\n",
              "    border-radius: 50%;\n",
              "    cursor: pointer;\n",
              "    display: none;\n",
              "    fill: var(--fill-color);\n",
              "    height: 32px;\n",
              "    padding: 0;\n",
              "    width: 32px;\n",
              "  }\n",
              "\n",
              "  .colab-df-quickchart:hover {\n",
              "    background-color: var(--hover-bg-color);\n",
              "    box-shadow: 0 1px 2px rgba(60, 64, 67, 0.3), 0 1px 3px 1px rgba(60, 64, 67, 0.15);\n",
              "    fill: var(--button-hover-fill-color);\n",
              "  }\n",
              "\n",
              "  .colab-df-quickchart-complete:disabled,\n",
              "  .colab-df-quickchart-complete:disabled:hover {\n",
              "    background-color: var(--disabled-bg-color);\n",
              "    fill: var(--disabled-fill-color);\n",
              "    box-shadow: none;\n",
              "  }\n",
              "\n",
              "  .colab-df-spinner {\n",
              "    border: 2px solid var(--fill-color);\n",
              "    border-color: transparent;\n",
              "    border-bottom-color: var(--fill-color);\n",
              "    animation:\n",
              "      spin 1s steps(1) infinite;\n",
              "  }\n",
              "\n",
              "  @keyframes spin {\n",
              "    0% {\n",
              "      border-color: transparent;\n",
              "      border-bottom-color: var(--fill-color);\n",
              "      border-left-color: var(--fill-color);\n",
              "    }\n",
              "    20% {\n",
              "      border-color: transparent;\n",
              "      border-left-color: var(--fill-color);\n",
              "      border-top-color: var(--fill-color);\n",
              "    }\n",
              "    30% {\n",
              "      border-color: transparent;\n",
              "      border-left-color: var(--fill-color);\n",
              "      border-top-color: var(--fill-color);\n",
              "      border-right-color: var(--fill-color);\n",
              "    }\n",
              "    40% {\n",
              "      border-color: transparent;\n",
              "      border-right-color: var(--fill-color);\n",
              "      border-top-color: var(--fill-color);\n",
              "    }\n",
              "    60% {\n",
              "      border-color: transparent;\n",
              "      border-right-color: var(--fill-color);\n",
              "    }\n",
              "    80% {\n",
              "      border-color: transparent;\n",
              "      border-right-color: var(--fill-color);\n",
              "      border-bottom-color: var(--fill-color);\n",
              "    }\n",
              "    90% {\n",
              "      border-color: transparent;\n",
              "      border-bottom-color: var(--fill-color);\n",
              "    }\n",
              "  }\n",
              "</style>\n",
              "\n",
              "  <script>\n",
              "    async function quickchart(key) {\n",
              "      const quickchartButtonEl =\n",
              "        document.querySelector('#' + key + ' button');\n",
              "      quickchartButtonEl.disabled = true;  // To prevent multiple clicks.\n",
              "      quickchartButtonEl.classList.add('colab-df-spinner');\n",
              "      try {\n",
              "        const charts = await google.colab.kernel.invokeFunction(\n",
              "            'suggestCharts', [key], {});\n",
              "      } catch (error) {\n",
              "        console.error('Error during call to suggestCharts:', error);\n",
              "      }\n",
              "      quickchartButtonEl.classList.remove('colab-df-spinner');\n",
              "      quickchartButtonEl.classList.add('colab-df-quickchart-complete');\n",
              "    }\n",
              "    (() => {\n",
              "      let quickchartButtonEl =\n",
              "        document.querySelector('#df-2070bbdc-2cbf-457c-8385-66ea0a138675 button');\n",
              "      quickchartButtonEl.style.display =\n",
              "        google.colab.kernel.accessAllowed ? 'block' : 'none';\n",
              "    })();\n",
              "  </script>\n",
              "</div>\n",
              "\n",
              "  <div id=\"id_3326bce7-f844-4cc5-ac6c-6ce6bdc09244\">\n",
              "    <style>\n",
              "      .colab-df-generate {\n",
              "        background-color: #E8F0FE;\n",
              "        border: none;\n",
              "        border-radius: 50%;\n",
              "        cursor: pointer;\n",
              "        display: none;\n",
              "        fill: #1967D2;\n",
              "        height: 32px;\n",
              "        padding: 0 0 0 0;\n",
              "        width: 32px;\n",
              "      }\n",
              "\n",
              "      .colab-df-generate:hover {\n",
              "        background-color: #E2EBFA;\n",
              "        box-shadow: 0px 1px 2px rgba(60, 64, 67, 0.3), 0px 1px 3px 1px rgba(60, 64, 67, 0.15);\n",
              "        fill: #174EA6;\n",
              "      }\n",
              "\n",
              "      [theme=dark] .colab-df-generate {\n",
              "        background-color: #3B4455;\n",
              "        fill: #D2E3FC;\n",
              "      }\n",
              "\n",
              "      [theme=dark] .colab-df-generate:hover {\n",
              "        background-color: #434B5C;\n",
              "        box-shadow: 0px 1px 3px 1px rgba(0, 0, 0, 0.15);\n",
              "        filter: drop-shadow(0px 1px 2px rgba(0, 0, 0, 0.3));\n",
              "        fill: #FFFFFF;\n",
              "      }\n",
              "    </style>\n",
              "    <button class=\"colab-df-generate\" onclick=\"generateWithVariable('data')\"\n",
              "            title=\"Generate code using this dataframe.\"\n",
              "            style=\"display:none;\">\n",
              "\n",
              "  <svg xmlns=\"http://www.w3.org/2000/svg\" height=\"24px\"viewBox=\"0 0 24 24\"\n",
              "       width=\"24px\">\n",
              "    <path d=\"M7,19H8.4L18.45,9,17,7.55,7,17.6ZM5,21V16.75L18.45,3.32a2,2,0,0,1,2.83,0l1.4,1.43a1.91,1.91,0,0,1,.58,1.4,1.91,1.91,0,0,1-.58,1.4L9.25,21ZM18.45,9,17,7.55Zm-12,3A5.31,5.31,0,0,0,4.9,8.1,5.31,5.31,0,0,0,1,6.5,5.31,5.31,0,0,0,4.9,4.9,5.31,5.31,0,0,0,6.5,1,5.31,5.31,0,0,0,8.1,4.9,5.31,5.31,0,0,0,12,6.5,5.46,5.46,0,0,0,6.5,12Z\"/>\n",
              "  </svg>\n",
              "    </button>\n",
              "    <script>\n",
              "      (() => {\n",
              "      const buttonEl =\n",
              "        document.querySelector('#id_3326bce7-f844-4cc5-ac6c-6ce6bdc09244 button.colab-df-generate');\n",
              "      buttonEl.style.display =\n",
              "        google.colab.kernel.accessAllowed ? 'block' : 'none';\n",
              "\n",
              "      buttonEl.onclick = () => {\n",
              "        google.colab.notebook.generateWithVariable('data');\n",
              "      }\n",
              "      })();\n",
              "    </script>\n",
              "  </div>\n",
              "\n",
              "    </div>\n",
              "  </div>\n"
            ],
            "application/vnd.google.colaboratory.intrinsic+json": {
              "type": "dataframe",
              "variable_name": "data",
              "summary": "{\n  \"name\": \"data\",\n  \"rows\": 8,\n  \"fields\": [\n    {\n      \"column\": \"X1\",\n      \"properties\": {\n        \"dtype\": \"number\",\n        \"std\": 0.2449489742783178,\n        \"min\": 0.1,\n        \"max\": 0.8,\n        \"num_unique_values\": 8,\n        \"samples\": [\n          0.4,\n          0.3,\n          0.2\n        ],\n        \"semantic_type\": \"\",\n        \"description\": \"\"\n      }\n    },\n    {\n      \"column\": \"X2\",\n      \"properties\": {\n        \"dtype\": \"number\",\n        \"std\": 0.24494897427831783,\n        \"min\": 0.1,\n        \"max\": 0.8,\n        \"num_unique_values\": 8,\n        \"samples\": [\n          0.3,\n          0.4,\n          0.1\n        ],\n        \"semantic_type\": \"\",\n        \"description\": \"\"\n      }\n    },\n    {\n      \"column\": \"Y\",\n      \"properties\": {\n        \"dtype\": \"number\",\n        \"std\": 1.1964232409262916,\n        \"min\": 4.7,\n        \"max\": 7.8,\n        \"num_unique_values\": 8,\n        \"samples\": [\n          5.7,\n          5.8,\n          4.7\n        ],\n        \"semantic_type\": \"\",\n        \"description\": \"\"\n      }\n    }\n  ]\n}"
            }
          },
          "metadata": {},
          "execution_count": 8
        }
      ]
    },
    {
      "cell_type": "markdown",
      "metadata": {
        "id": "RrDDPeReNrqB"
      },
      "source": [
        "## Data Split"
      ]
    },
    {
      "cell_type": "code",
      "metadata": {
        "colab": {
          "base_uri": "https://localhost:8080/"
        },
        "id": "l_XqjYV0NnvY",
        "outputId": "e4664add-346d-46d5-f144-cdbe0bfb98a5"
      },
      "source": [
        "from sklearn.model_selection import train_test_split\n",
        "dataframe = data.values\n",
        "X, y = dataframe[:, :-1], dataframe[:, -1]\n",
        "x_train, x_test, y_train, y_test = train_test_split(X, y, test_size = 0.20, random_state = 10)\n",
        "x_train"
      ],
      "execution_count": 9,
      "outputs": [
        {
          "output_type": "execute_result",
          "data": {
            "text/plain": [
              "array([[0.5, 0.6],\n",
              "       [0.7, 0.8],\n",
              "       [0.2, 0.1],\n",
              "       [0.1, 0.2],\n",
              "       [0.3, 0.4],\n",
              "       [0.4, 0.3]])"
            ]
          },
          "metadata": {},
          "execution_count": 9
        }
      ]
    },
    {
      "cell_type": "markdown",
      "metadata": {
        "id": "dCnPyjFPRYHe"
      },
      "source": [
        "# Initialization"
      ]
    },
    {
      "cell_type": "code",
      "metadata": {
        "id": "BaF_C1xXPu8_"
      },
      "source": [
        "m1=random.uniform(-10,10)\n",
        "m2=random.uniform(-10,10)\n",
        "c=random.uniform(-10,10)\n",
        "eta=0.1\n",
        "max_iter=10000"
      ],
      "execution_count": 10,
      "outputs": []
    },
    {
      "cell_type": "markdown",
      "metadata": {
        "id": "MvmX_8H2QUTw"
      },
      "source": [
        "## Gradient Calculation"
      ]
    },
    {
      "cell_type": "code",
      "metadata": {
        "id": "yL6oLWXVQSAw"
      },
      "source": [
        "def gradient(m1,m2,c,x1,x2,y):\n",
        "  m1_deriv=-1*(y-m1*x1-m2*x2-c)*x1\n",
        "  m2_deriv=-1*(y-m1*x1-m2*x2-c)*x2\n",
        "  c_deriv=-1*(y-m1*x1-m2*x2-c)\n",
        "  return m1_deriv,m2_deriv,c_deriv"
      ],
      "execution_count": 11,
      "outputs": []
    },
    {
      "cell_type": "markdown",
      "metadata": {
        "id": "pU2v0IcjQnrA"
      },
      "source": [
        "## Training Using Stochastic Gradient Descent Optimizer"
      ]
    },
    {
      "cell_type": "code",
      "metadata": {
        "colab": {
          "base_uri": "https://localhost:8080/"
        },
        "id": "G3Sn293XQkr_",
        "outputId": "5b9a38a4-5c09-4349-d571-8c0255e528c3"
      },
      "source": [
        "for iter in range(max_iter):\n",
        "  for sample in range(x_train.shape[0]):\n",
        "    del_m1,del_m2,del_c=gradient(m1,m2, c, x_train[sample,0],x_train[sample,1], y_train[sample])\n",
        "    m1=m1-eta*del_m1\n",
        "    m2=m2-eta*del_m2\n",
        "    c=c-eta*del_c\n",
        "print('model parameter m and c',m1,m2,c)"
      ],
      "execution_count": 12,
      "outputs": [
        {
          "output_type": "stream",
          "name": "stdout",
          "text": [
            "model parameter m and c 2.0000000007059033 2.9999999994206132 3.999999999969463\n"
          ]
        }
      ]
    },
    {
      "cell_type": "markdown",
      "metadata": {
        "id": "9jrwIBHCTgio"
      },
      "source": [
        "# Model Prediction on Training Data\n",
        "\n",
        "\n",
        "\n"
      ]
    },
    {
      "cell_type": "code",
      "metadata": {
        "id": "Q3wUlqzpRBnP"
      },
      "source": [
        "y_pred_train = []\n",
        "for sample in range(x_train.shape[0]):\n",
        "  x1=x_train[sample,0]\n",
        "  x2=x_train[sample,1]\n",
        "  y=y_train[sample]\n",
        "  y_p_tr = (m1 * x1) + c + (m2 * x2)\n",
        "  y_pred_train.append(y_p_tr)\n",
        "y_pred_train = np.array(y_pred_train)"
      ],
      "execution_count": 13,
      "outputs": []
    },
    {
      "cell_type": "markdown",
      "metadata": {
        "id": "EzaQYrgiT_6a"
      },
      "source": [
        "# Model Prediction on Testing Data\n",
        "\n",
        "\n",
        "\n"
      ]
    },
    {
      "cell_type": "code",
      "metadata": {
        "id": "kQ1WBIQiRgq1"
      },
      "source": [
        "y_pred_test = []\n",
        "for sample in range(x_test.shape[0]):\n",
        "  x1=x_test[sample,0]\n",
        "  x2=x_test[sample,1]\n",
        "  y=y_test[sample]\n",
        "  y_p_te = (m1 * x1) + c + (m2 * x2)\n",
        "  y_pred_test.append(y_p_te)\n",
        "y_pred_test = np.array(y_pred_test)"
      ],
      "execution_count": 14,
      "outputs": []
    },
    {
      "cell_type": "markdown",
      "metadata": {
        "id": "uuV3M4SuUURx"
      },
      "source": [
        "# Error Metrics Calculation"
      ]
    },
    {
      "cell_type": "code",
      "metadata": {
        "colab": {
          "base_uri": "https://localhost:8080/"
        },
        "id": "NyrBxCDiUQI_",
        "outputId": "d957f2a1-1b6e-4520-91ee-04c1c9701983"
      },
      "source": [
        "\n",
        "import math\n",
        "from sklearn.metrics import mean_squared_error\n",
        "from sklearn.metrics import mean_absolute_error\n",
        "\n",
        "\n",
        "#Training Accuracies\n",
        "rmse = math.sqrt(mean_squared_error(y_train, y_pred_train))\n",
        "print('Root mean square error', rmse)\n",
        "mse = (mean_squared_error(y_train, y_pred_train))\n",
        "print('Mean square error', mse)\n",
        "mae=mean_absolute_error(y_train, y_pred_train)\n",
        "print('Mean absolute error', mae)"
      ],
      "execution_count": 15,
      "outputs": [
        {
          "output_type": "stream",
          "name": "stdout",
          "text": [
            "Root mean square error 5.44678254870425e-11\n",
            "Mean square error 2.966744013286917e-21\n",
            "Mean absolute error 4.705998553807452e-11\n"
          ]
        }
      ]
    },
    {
      "cell_type": "code",
      "metadata": {
        "colab": {
          "base_uri": "https://localhost:8080/"
        },
        "id": "f-QmKiGLUYRW",
        "outputId": "55c5d37e-fa7d-489a-f96b-c48463eb99d4"
      },
      "source": [
        "#Testing Accuracies\n",
        "mse = math.sqrt(mean_squared_error(y_test, y_pred_test))\n",
        "print('Root mean square error', mse)\n",
        "mse = (mean_squared_error(y_test, y_pred_test))\n",
        "print('Mean square error', mse)\n",
        "mae=mean_absolute_error(y_test, y_pred_test)\n",
        "print('Mean absolute error', mae)"
      ],
      "execution_count": 16,
      "outputs": [
        {
          "output_type": "stream",
          "name": "stdout",
          "text": [
            "Root mean square error 1.1665090759881406e-10\n",
            "Mean square error 1.3607434243627056e-20\n",
            "Mean absolute error 1.159627949220976e-10\n"
          ]
        }
      ]
    },
    {
      "cell_type": "markdown",
      "metadata": {
        "id": "0XuYEd0XUeh4"
      },
      "source": [
        "# Deployment"
      ]
    },
    {
      "cell_type": "code",
      "metadata": {
        "id": "xwC6Ru81UbP-",
        "colab": {
          "base_uri": "https://localhost:8080/"
        },
        "outputId": "a64b1756-af3a-4c27-c315-d8ac02c05f99"
      },
      "source": [
        "X1=input('enter X1 value')\n",
        "X2=input('enter X2 value')\n",
        "print('X1=',X1)\n",
        "print('X2=',X2)\n",
        "Y=m1*float(X1)+m2*float(X2)+c\n",
        "print('Y=',Y)"
      ],
      "execution_count": 17,
      "outputs": [
        {
          "output_type": "stream",
          "name": "stdout",
          "text": [
            "enter X1 value0.2\n",
            "enter X2 value0.1\n",
            "X1= 0.2\n",
            "X2= 0.1\n",
            "Y= 4.700000000052706\n"
          ]
        }
      ]
    },
    {
      "cell_type": "markdown",
      "metadata": {
        "id": "yXwa1qdkoS85"
      },
      "source": [
        "# Thank You"
      ]
    }
  ]
}