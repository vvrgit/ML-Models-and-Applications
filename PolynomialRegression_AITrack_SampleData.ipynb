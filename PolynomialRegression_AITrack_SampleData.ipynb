{
  "nbformat": 4,
  "nbformat_minor": 0,
  "metadata": {
    "colab": {
      "name": "PolynomialRegression-AITrack-SampleData.ipynb",
      "provenance": [],
      "authorship_tag": "ABX9TyNtoD7fc4y/rlNAVjh1+6Za",
      "include_colab_link": true
    },
    "kernelspec": {
      "name": "python3",
      "display_name": "Python 3"
    },
    "language_info": {
      "name": "python"
    }
  },
  "cells": [
    {
      "cell_type": "markdown",
      "metadata": {
        "id": "view-in-github",
        "colab_type": "text"
      },
      "source": [
        "<a href=\"https://colab.research.google.com/github/vvrgit/ML-Models-and-Applications/blob/main/PolynomialRegression_AITrack_SampleData.ipynb\" target=\"_parent\"><img src=\"https://colab.research.google.com/assets/colab-badge.svg\" alt=\"Open In Colab\"/></a>"
      ]
    },
    {
      "cell_type": "markdown",
      "metadata": {
        "id": "YHozODt6S7fx"
      },
      "source": [
        "#Polynomial Regression Model"
      ]
    },
    {
      "cell_type": "markdown",
      "metadata": {
        "id": "4bjzh0GATpyy"
      },
      "source": [
        "![image.png](data:image/png;base64,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)"
      ]
    },
    {
      "cell_type": "markdown",
      "metadata": {
        "id": "njUhV5griQKM"
      },
      "source": [
        "![image.png](data:image/png;base64,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)"
      ]
    },
    {
      "cell_type": "markdown",
      "metadata": {
        "id": "f5iuyNX6U1iw"
      },
      "source": [
        "#Mount Google Drive"
      ]
    },
    {
      "cell_type": "code",
      "metadata": {
        "colab": {
          "base_uri": "https://localhost:8080/"
        },
        "id": "JdDfHCxCS59g",
        "outputId": "25466af9-b1f0-40b1-d2a0-78201940afca"
      },
      "source": [
        "from google.colab import drive\n",
        "drive.mount('/content/drive')"
      ],
      "execution_count": 1,
      "outputs": [
        {
          "output_type": "stream",
          "name": "stdout",
          "text": [
            "Mounted at /content/drive\n"
          ]
        }
      ]
    },
    {
      "cell_type": "markdown",
      "metadata": {
        "id": "W4SQQEctU7Ox"
      },
      "source": [
        "#Import Libraries"
      ]
    },
    {
      "cell_type": "code",
      "metadata": {
        "id": "bVj25kF-UoTR"
      },
      "source": [
        "import numpy as np\n",
        "import math as mt\n",
        "import random\n",
        "import pandas as pd"
      ],
      "execution_count": 2,
      "outputs": []
    },
    {
      "cell_type": "markdown",
      "metadata": {
        "id": "jLwgMAHpVAxR"
      },
      "source": [
        "#Import Data"
      ]
    },
    {
      "cell_type": "code",
      "metadata": {
        "colab": {
          "base_uri": "https://localhost:8080/",
          "height": 206
        },
        "id": "ScCRs-vmU__5",
        "outputId": "ff3da67f-55f1-4e44-af93-f75233241cce"
      },
      "source": [
        "data = pd.read_csv('/content/drive/MyDrive/AI Data/sampledata_03.csv')\n",
        "data.head()"
      ],
      "execution_count": 3,
      "outputs": [
        {
          "output_type": "execute_result",
          "data": {
            "text/plain": [
              "     A     B\n",
              "0  0.1  3.12\n",
              "1  0.2  3.28\n",
              "2  0.3  3.48\n",
              "3  0.4  3.72\n",
              "4  0.5  4.00"
            ],
            "text/html": [
              "\n",
              "  <div id=\"df-989e2d67-a625-4d39-a216-145e9e2b338e\" class=\"colab-df-container\">\n",
              "    <div>\n",
              "<style scoped>\n",
              "    .dataframe tbody tr th:only-of-type {\n",
              "        vertical-align: middle;\n",
              "    }\n",
              "\n",
              "    .dataframe tbody tr th {\n",
              "        vertical-align: top;\n",
              "    }\n",
              "\n",
              "    .dataframe thead th {\n",
              "        text-align: right;\n",
              "    }\n",
              "</style>\n",
              "<table border=\"1\" class=\"dataframe\">\n",
              "  <thead>\n",
              "    <tr style=\"text-align: right;\">\n",
              "      <th></th>\n",
              "      <th>A</th>\n",
              "      <th>B</th>\n",
              "    </tr>\n",
              "  </thead>\n",
              "  <tbody>\n",
              "    <tr>\n",
              "      <th>0</th>\n",
              "      <td>0.1</td>\n",
              "      <td>3.12</td>\n",
              "    </tr>\n",
              "    <tr>\n",
              "      <th>1</th>\n",
              "      <td>0.2</td>\n",
              "      <td>3.28</td>\n",
              "    </tr>\n",
              "    <tr>\n",
              "      <th>2</th>\n",
              "      <td>0.3</td>\n",
              "      <td>3.48</td>\n",
              "    </tr>\n",
              "    <tr>\n",
              "      <th>3</th>\n",
              "      <td>0.4</td>\n",
              "      <td>3.72</td>\n",
              "    </tr>\n",
              "    <tr>\n",
              "      <th>4</th>\n",
              "      <td>0.5</td>\n",
              "      <td>4.00</td>\n",
              "    </tr>\n",
              "  </tbody>\n",
              "</table>\n",
              "</div>\n",
              "    <div class=\"colab-df-buttons\">\n",
              "\n",
              "  <div class=\"colab-df-container\">\n",
              "    <button class=\"colab-df-convert\" onclick=\"convertToInteractive('df-989e2d67-a625-4d39-a216-145e9e2b338e')\"\n",
              "            title=\"Convert this dataframe to an interactive table.\"\n",
              "            style=\"display:none;\">\n",
              "\n",
              "  <svg xmlns=\"http://www.w3.org/2000/svg\" height=\"24px\" viewBox=\"0 -960 960 960\">\n",
              "    <path d=\"M120-120v-720h720v720H120Zm60-500h600v-160H180v160Zm220 220h160v-160H400v160Zm0 220h160v-160H400v160ZM180-400h160v-160H180v160Zm440 0h160v-160H620v160ZM180-180h160v-160H180v160Zm440 0h160v-160H620v160Z\"/>\n",
              "  </svg>\n",
              "    </button>\n",
              "\n",
              "  <style>\n",
              "    .colab-df-container {\n",
              "      display:flex;\n",
              "      gap: 12px;\n",
              "    }\n",
              "\n",
              "    .colab-df-convert {\n",
              "      background-color: #E8F0FE;\n",
              "      border: none;\n",
              "      border-radius: 50%;\n",
              "      cursor: pointer;\n",
              "      display: none;\n",
              "      fill: #1967D2;\n",
              "      height: 32px;\n",
              "      padding: 0 0 0 0;\n",
              "      width: 32px;\n",
              "    }\n",
              "\n",
              "    .colab-df-convert:hover {\n",
              "      background-color: #E2EBFA;\n",
              "      box-shadow: 0px 1px 2px rgba(60, 64, 67, 0.3), 0px 1px 3px 1px rgba(60, 64, 67, 0.15);\n",
              "      fill: #174EA6;\n",
              "    }\n",
              "\n",
              "    .colab-df-buttons div {\n",
              "      margin-bottom: 4px;\n",
              "    }\n",
              "\n",
              "    [theme=dark] .colab-df-convert {\n",
              "      background-color: #3B4455;\n",
              "      fill: #D2E3FC;\n",
              "    }\n",
              "\n",
              "    [theme=dark] .colab-df-convert:hover {\n",
              "      background-color: #434B5C;\n",
              "      box-shadow: 0px 1px 3px 1px rgba(0, 0, 0, 0.15);\n",
              "      filter: drop-shadow(0px 1px 2px rgba(0, 0, 0, 0.3));\n",
              "      fill: #FFFFFF;\n",
              "    }\n",
              "  </style>\n",
              "\n",
              "    <script>\n",
              "      const buttonEl =\n",
              "        document.querySelector('#df-989e2d67-a625-4d39-a216-145e9e2b338e button.colab-df-convert');\n",
              "      buttonEl.style.display =\n",
              "        google.colab.kernel.accessAllowed ? 'block' : 'none';\n",
              "\n",
              "      async function convertToInteractive(key) {\n",
              "        const element = document.querySelector('#df-989e2d67-a625-4d39-a216-145e9e2b338e');\n",
              "        const dataTable =\n",
              "          await google.colab.kernel.invokeFunction('convertToInteractive',\n",
              "                                                    [key], {});\n",
              "        if (!dataTable) return;\n",
              "\n",
              "        const docLinkHtml = 'Like what you see? Visit the ' +\n",
              "          '<a target=\"_blank\" href=https://colab.research.google.com/notebooks/data_table.ipynb>data table notebook</a>'\n",
              "          + ' to learn more about interactive tables.';\n",
              "        element.innerHTML = '';\n",
              "        dataTable['output_type'] = 'display_data';\n",
              "        await google.colab.output.renderOutput(dataTable, element);\n",
              "        const docLink = document.createElement('div');\n",
              "        docLink.innerHTML = docLinkHtml;\n",
              "        element.appendChild(docLink);\n",
              "      }\n",
              "    </script>\n",
              "  </div>\n",
              "\n",
              "\n",
              "<div id=\"df-5bc435a8-9815-4f91-96d0-eb7cf931083b\">\n",
              "  <button class=\"colab-df-quickchart\" onclick=\"quickchart('df-5bc435a8-9815-4f91-96d0-eb7cf931083b')\"\n",
              "            title=\"Suggest charts\"\n",
              "            style=\"display:none;\">\n",
              "\n",
              "<svg xmlns=\"http://www.w3.org/2000/svg\" height=\"24px\"viewBox=\"0 0 24 24\"\n",
              "     width=\"24px\">\n",
              "    <g>\n",
              "        <path d=\"M19 3H5c-1.1 0-2 .9-2 2v14c0 1.1.9 2 2 2h14c1.1 0 2-.9 2-2V5c0-1.1-.9-2-2-2zM9 17H7v-7h2v7zm4 0h-2V7h2v10zm4 0h-2v-4h2v4z\"/>\n",
              "    </g>\n",
              "</svg>\n",
              "  </button>\n",
              "\n",
              "<style>\n",
              "  .colab-df-quickchart {\n",
              "      --bg-color: #E8F0FE;\n",
              "      --fill-color: #1967D2;\n",
              "      --hover-bg-color: #E2EBFA;\n",
              "      --hover-fill-color: #174EA6;\n",
              "      --disabled-fill-color: #AAA;\n",
              "      --disabled-bg-color: #DDD;\n",
              "  }\n",
              "\n",
              "  [theme=dark] .colab-df-quickchart {\n",
              "      --bg-color: #3B4455;\n",
              "      --fill-color: #D2E3FC;\n",
              "      --hover-bg-color: #434B5C;\n",
              "      --hover-fill-color: #FFFFFF;\n",
              "      --disabled-bg-color: #3B4455;\n",
              "      --disabled-fill-color: #666;\n",
              "  }\n",
              "\n",
              "  .colab-df-quickchart {\n",
              "    background-color: var(--bg-color);\n",
              "    border: none;\n",
              "    border-radius: 50%;\n",
              "    cursor: pointer;\n",
              "    display: none;\n",
              "    fill: var(--fill-color);\n",
              "    height: 32px;\n",
              "    padding: 0;\n",
              "    width: 32px;\n",
              "  }\n",
              "\n",
              "  .colab-df-quickchart:hover {\n",
              "    background-color: var(--hover-bg-color);\n",
              "    box-shadow: 0 1px 2px rgba(60, 64, 67, 0.3), 0 1px 3px 1px rgba(60, 64, 67, 0.15);\n",
              "    fill: var(--button-hover-fill-color);\n",
              "  }\n",
              "\n",
              "  .colab-df-quickchart-complete:disabled,\n",
              "  .colab-df-quickchart-complete:disabled:hover {\n",
              "    background-color: var(--disabled-bg-color);\n",
              "    fill: var(--disabled-fill-color);\n",
              "    box-shadow: none;\n",
              "  }\n",
              "\n",
              "  .colab-df-spinner {\n",
              "    border: 2px solid var(--fill-color);\n",
              "    border-color: transparent;\n",
              "    border-bottom-color: var(--fill-color);\n",
              "    animation:\n",
              "      spin 1s steps(1) infinite;\n",
              "  }\n",
              "\n",
              "  @keyframes spin {\n",
              "    0% {\n",
              "      border-color: transparent;\n",
              "      border-bottom-color: var(--fill-color);\n",
              "      border-left-color: var(--fill-color);\n",
              "    }\n",
              "    20% {\n",
              "      border-color: transparent;\n",
              "      border-left-color: var(--fill-color);\n",
              "      border-top-color: var(--fill-color);\n",
              "    }\n",
              "    30% {\n",
              "      border-color: transparent;\n",
              "      border-left-color: var(--fill-color);\n",
              "      border-top-color: var(--fill-color);\n",
              "      border-right-color: var(--fill-color);\n",
              "    }\n",
              "    40% {\n",
              "      border-color: transparent;\n",
              "      border-right-color: var(--fill-color);\n",
              "      border-top-color: var(--fill-color);\n",
              "    }\n",
              "    60% {\n",
              "      border-color: transparent;\n",
              "      border-right-color: var(--fill-color);\n",
              "    }\n",
              "    80% {\n",
              "      border-color: transparent;\n",
              "      border-right-color: var(--fill-color);\n",
              "      border-bottom-color: var(--fill-color);\n",
              "    }\n",
              "    90% {\n",
              "      border-color: transparent;\n",
              "      border-bottom-color: var(--fill-color);\n",
              "    }\n",
              "  }\n",
              "</style>\n",
              "\n",
              "  <script>\n",
              "    async function quickchart(key) {\n",
              "      const quickchartButtonEl =\n",
              "        document.querySelector('#' + key + ' button');\n",
              "      quickchartButtonEl.disabled = true;  // To prevent multiple clicks.\n",
              "      quickchartButtonEl.classList.add('colab-df-spinner');\n",
              "      try {\n",
              "        const charts = await google.colab.kernel.invokeFunction(\n",
              "            'suggestCharts', [key], {});\n",
              "      } catch (error) {\n",
              "        console.error('Error during call to suggestCharts:', error);\n",
              "      }\n",
              "      quickchartButtonEl.classList.remove('colab-df-spinner');\n",
              "      quickchartButtonEl.classList.add('colab-df-quickchart-complete');\n",
              "    }\n",
              "    (() => {\n",
              "      let quickchartButtonEl =\n",
              "        document.querySelector('#df-5bc435a8-9815-4f91-96d0-eb7cf931083b button');\n",
              "      quickchartButtonEl.style.display =\n",
              "        google.colab.kernel.accessAllowed ? 'block' : 'none';\n",
              "    })();\n",
              "  </script>\n",
              "</div>\n",
              "\n",
              "    </div>\n",
              "  </div>\n"
            ],
            "application/vnd.google.colaboratory.intrinsic+json": {
              "type": "dataframe",
              "variable_name": "data",
              "summary": "{\n  \"name\": \"data\",\n  \"rows\": 9,\n  \"fields\": [\n    {\n      \"column\": \"A\",\n      \"properties\": {\n        \"dtype\": \"number\",\n        \"std\": 0.2738612787525831,\n        \"min\": 0.1,\n        \"max\": 0.9,\n        \"num_unique_values\": 9,\n        \"samples\": [\n          0.8,\n          0.2,\n          0.6\n        ],\n        \"semantic_type\": \"\",\n        \"description\": \"\"\n      }\n    },\n    {\n      \"column\": \"B\",\n      \"properties\": {\n        \"dtype\": \"number\",\n        \"std\": 0.8309031231136395,\n        \"min\": 3.12,\n        \"max\": 5.52,\n        \"num_unique_values\": 9,\n        \"samples\": [\n          5.08,\n          3.28,\n          4.32\n        ],\n        \"semantic_type\": \"\",\n        \"description\": \"\"\n      }\n    }\n  ]\n}"
            }
          },
          "metadata": {},
          "execution_count": 3
        }
      ]
    },
    {
      "cell_type": "code",
      "metadata": {
        "colab": {
          "base_uri": "https://localhost:8080/",
          "height": 366
        },
        "id": "un9e-5A5WFcj",
        "outputId": "fcd1556f-4d2b-4362-c5f9-f4efcb18c377"
      },
      "source": [
        "data['A']"
      ],
      "execution_count": 4,
      "outputs": [
        {
          "output_type": "execute_result",
          "data": {
            "text/plain": [
              "0    0.1\n",
              "1    0.2\n",
              "2    0.3\n",
              "3    0.4\n",
              "4    0.5\n",
              "5    0.6\n",
              "6    0.7\n",
              "7    0.8\n",
              "8    0.9\n",
              "Name: A, dtype: float64"
            ],
            "text/html": [
              "<div>\n",
              "<style scoped>\n",
              "    .dataframe tbody tr th:only-of-type {\n",
              "        vertical-align: middle;\n",
              "    }\n",
              "\n",
              "    .dataframe tbody tr th {\n",
              "        vertical-align: top;\n",
              "    }\n",
              "\n",
              "    .dataframe thead th {\n",
              "        text-align: right;\n",
              "    }\n",
              "</style>\n",
              "<table border=\"1\" class=\"dataframe\">\n",
              "  <thead>\n",
              "    <tr style=\"text-align: right;\">\n",
              "      <th></th>\n",
              "      <th>A</th>\n",
              "    </tr>\n",
              "  </thead>\n",
              "  <tbody>\n",
              "    <tr>\n",
              "      <th>0</th>\n",
              "      <td>0.1</td>\n",
              "    </tr>\n",
              "    <tr>\n",
              "      <th>1</th>\n",
              "      <td>0.2</td>\n",
              "    </tr>\n",
              "    <tr>\n",
              "      <th>2</th>\n",
              "      <td>0.3</td>\n",
              "    </tr>\n",
              "    <tr>\n",
              "      <th>3</th>\n",
              "      <td>0.4</td>\n",
              "    </tr>\n",
              "    <tr>\n",
              "      <th>4</th>\n",
              "      <td>0.5</td>\n",
              "    </tr>\n",
              "    <tr>\n",
              "      <th>5</th>\n",
              "      <td>0.6</td>\n",
              "    </tr>\n",
              "    <tr>\n",
              "      <th>6</th>\n",
              "      <td>0.7</td>\n",
              "    </tr>\n",
              "    <tr>\n",
              "      <th>7</th>\n",
              "      <td>0.8</td>\n",
              "    </tr>\n",
              "    <tr>\n",
              "      <th>8</th>\n",
              "      <td>0.9</td>\n",
              "    </tr>\n",
              "  </tbody>\n",
              "</table>\n",
              "</div><br><label><b>dtype:</b> float64</label>"
            ]
          },
          "metadata": {},
          "execution_count": 4
        }
      ]
    },
    {
      "cell_type": "markdown",
      "metadata": {
        "id": "eKKeMEBJVNtp"
      },
      "source": [
        "# Outliers Detection"
      ]
    },
    {
      "cell_type": "code",
      "metadata": {
        "id": "2dkpPrH7VExy"
      },
      "source": [
        "outliers = []\n",
        "def detect_outliers_zscore(data):\n",
        "    thres = 3\n",
        "    mean = np.mean(data)\n",
        "    std = np.std(data)\n",
        "    # print(mean, std)\n",
        "    for i in data:\n",
        "        z_score = (i-mean)/std\n",
        "        if (np.abs(z_score) > thres):\n",
        "            outliers.append(i)\n",
        "    return outliers# Driver code"
      ],
      "execution_count": 5,
      "outputs": []
    },
    {
      "cell_type": "code",
      "metadata": {
        "colab": {
          "base_uri": "https://localhost:8080/"
        },
        "id": "NGCuL0sxVSmR",
        "outputId": "b3f91ddd-3800-406c-82f2-685c5c3e2131"
      },
      "source": [
        "sample_outliers_A = detect_outliers_zscore(data['A'])\n",
        "sample_outliers_B = detect_outliers_zscore(data['B'])\n",
        "print(\"Outliers in A column from Z-scores method: \", sample_outliers_A)\n",
        "print(\"Outliers in B column from Z-scores method: \", sample_outliers_B)"
      ],
      "execution_count": 6,
      "outputs": [
        {
          "output_type": "stream",
          "name": "stdout",
          "text": [
            "Outliers in A column from Z-scores method:  []\n",
            "Outliers in B column from Z-scores method:  []\n"
          ]
        }
      ]
    },
    {
      "cell_type": "markdown",
      "metadata": {
        "id": "9qNgwB7GkQkM"
      },
      "source": [
        "#Outlier Treatment"
      ]
    },
    {
      "cell_type": "code",
      "metadata": {
        "colab": {
          "base_uri": "https://localhost:8080/",
          "height": 331
        },
        "id": "5I5SG1Bnkc_h",
        "outputId": "4f4407be-d3ee-4726-c29e-bf71fd52a5fa"
      },
      "source": [
        "from scipy.stats import zscore\n",
        "zA = np.abs(zscore(data['A']))\n",
        "zB = np.abs(zscore(data['A']))\n",
        "data['ZscoreA'] = zA\n",
        "data['ZscoreB'] = zB\n",
        "outliers_A=len(data[data['ZscoreA']>3])\n",
        "outliers_B=len(data[data['ZscoreB']>3])\n",
        "data_z = data[data['ZscoreA']<3]\n",
        "data=data_z.drop(['ZscoreA', 'ZscoreB'], axis=1)\n",
        "data"
      ],
      "execution_count": 7,
      "outputs": [
        {
          "output_type": "execute_result",
          "data": {
            "text/plain": [
              "     A     B\n",
              "0  0.1  3.12\n",
              "1  0.2  3.28\n",
              "2  0.3  3.48\n",
              "3  0.4  3.72\n",
              "4  0.5  4.00\n",
              "5  0.6  4.32\n",
              "6  0.7  4.68\n",
              "7  0.8  5.08\n",
              "8  0.9  5.52"
            ],
            "text/html": [
              "\n",
              "  <div id=\"df-36a6609a-b74b-4b7d-b21d-4236dd877501\" class=\"colab-df-container\">\n",
              "    <div>\n",
              "<style scoped>\n",
              "    .dataframe tbody tr th:only-of-type {\n",
              "        vertical-align: middle;\n",
              "    }\n",
              "\n",
              "    .dataframe tbody tr th {\n",
              "        vertical-align: top;\n",
              "    }\n",
              "\n",
              "    .dataframe thead th {\n",
              "        text-align: right;\n",
              "    }\n",
              "</style>\n",
              "<table border=\"1\" class=\"dataframe\">\n",
              "  <thead>\n",
              "    <tr style=\"text-align: right;\">\n",
              "      <th></th>\n",
              "      <th>A</th>\n",
              "      <th>B</th>\n",
              "    </tr>\n",
              "  </thead>\n",
              "  <tbody>\n",
              "    <tr>\n",
              "      <th>0</th>\n",
              "      <td>0.1</td>\n",
              "      <td>3.12</td>\n",
              "    </tr>\n",
              "    <tr>\n",
              "      <th>1</th>\n",
              "      <td>0.2</td>\n",
              "      <td>3.28</td>\n",
              "    </tr>\n",
              "    <tr>\n",
              "      <th>2</th>\n",
              "      <td>0.3</td>\n",
              "      <td>3.48</td>\n",
              "    </tr>\n",
              "    <tr>\n",
              "      <th>3</th>\n",
              "      <td>0.4</td>\n",
              "      <td>3.72</td>\n",
              "    </tr>\n",
              "    <tr>\n",
              "      <th>4</th>\n",
              "      <td>0.5</td>\n",
              "      <td>4.00</td>\n",
              "    </tr>\n",
              "    <tr>\n",
              "      <th>5</th>\n",
              "      <td>0.6</td>\n",
              "      <td>4.32</td>\n",
              "    </tr>\n",
              "    <tr>\n",
              "      <th>6</th>\n",
              "      <td>0.7</td>\n",
              "      <td>4.68</td>\n",
              "    </tr>\n",
              "    <tr>\n",
              "      <th>7</th>\n",
              "      <td>0.8</td>\n",
              "      <td>5.08</td>\n",
              "    </tr>\n",
              "    <tr>\n",
              "      <th>8</th>\n",
              "      <td>0.9</td>\n",
              "      <td>5.52</td>\n",
              "    </tr>\n",
              "  </tbody>\n",
              "</table>\n",
              "</div>\n",
              "    <div class=\"colab-df-buttons\">\n",
              "\n",
              "  <div class=\"colab-df-container\">\n",
              "    <button class=\"colab-df-convert\" onclick=\"convertToInteractive('df-36a6609a-b74b-4b7d-b21d-4236dd877501')\"\n",
              "            title=\"Convert this dataframe to an interactive table.\"\n",
              "            style=\"display:none;\">\n",
              "\n",
              "  <svg xmlns=\"http://www.w3.org/2000/svg\" height=\"24px\" viewBox=\"0 -960 960 960\">\n",
              "    <path d=\"M120-120v-720h720v720H120Zm60-500h600v-160H180v160Zm220 220h160v-160H400v160Zm0 220h160v-160H400v160ZM180-400h160v-160H180v160Zm440 0h160v-160H620v160ZM180-180h160v-160H180v160Zm440 0h160v-160H620v160Z\"/>\n",
              "  </svg>\n",
              "    </button>\n",
              "\n",
              "  <style>\n",
              "    .colab-df-container {\n",
              "      display:flex;\n",
              "      gap: 12px;\n",
              "    }\n",
              "\n",
              "    .colab-df-convert {\n",
              "      background-color: #E8F0FE;\n",
              "      border: none;\n",
              "      border-radius: 50%;\n",
              "      cursor: pointer;\n",
              "      display: none;\n",
              "      fill: #1967D2;\n",
              "      height: 32px;\n",
              "      padding: 0 0 0 0;\n",
              "      width: 32px;\n",
              "    }\n",
              "\n",
              "    .colab-df-convert:hover {\n",
              "      background-color: #E2EBFA;\n",
              "      box-shadow: 0px 1px 2px rgba(60, 64, 67, 0.3), 0px 1px 3px 1px rgba(60, 64, 67, 0.15);\n",
              "      fill: #174EA6;\n",
              "    }\n",
              "\n",
              "    .colab-df-buttons div {\n",
              "      margin-bottom: 4px;\n",
              "    }\n",
              "\n",
              "    [theme=dark] .colab-df-convert {\n",
              "      background-color: #3B4455;\n",
              "      fill: #D2E3FC;\n",
              "    }\n",
              "\n",
              "    [theme=dark] .colab-df-convert:hover {\n",
              "      background-color: #434B5C;\n",
              "      box-shadow: 0px 1px 3px 1px rgba(0, 0, 0, 0.15);\n",
              "      filter: drop-shadow(0px 1px 2px rgba(0, 0, 0, 0.3));\n",
              "      fill: #FFFFFF;\n",
              "    }\n",
              "  </style>\n",
              "\n",
              "    <script>\n",
              "      const buttonEl =\n",
              "        document.querySelector('#df-36a6609a-b74b-4b7d-b21d-4236dd877501 button.colab-df-convert');\n",
              "      buttonEl.style.display =\n",
              "        google.colab.kernel.accessAllowed ? 'block' : 'none';\n",
              "\n",
              "      async function convertToInteractive(key) {\n",
              "        const element = document.querySelector('#df-36a6609a-b74b-4b7d-b21d-4236dd877501');\n",
              "        const dataTable =\n",
              "          await google.colab.kernel.invokeFunction('convertToInteractive',\n",
              "                                                    [key], {});\n",
              "        if (!dataTable) return;\n",
              "\n",
              "        const docLinkHtml = 'Like what you see? Visit the ' +\n",
              "          '<a target=\"_blank\" href=https://colab.research.google.com/notebooks/data_table.ipynb>data table notebook</a>'\n",
              "          + ' to learn more about interactive tables.';\n",
              "        element.innerHTML = '';\n",
              "        dataTable['output_type'] = 'display_data';\n",
              "        await google.colab.output.renderOutput(dataTable, element);\n",
              "        const docLink = document.createElement('div');\n",
              "        docLink.innerHTML = docLinkHtml;\n",
              "        element.appendChild(docLink);\n",
              "      }\n",
              "    </script>\n",
              "  </div>\n",
              "\n",
              "\n",
              "<div id=\"df-c8f31c0c-6fd1-4e87-a809-71fd9060f0e5\">\n",
              "  <button class=\"colab-df-quickchart\" onclick=\"quickchart('df-c8f31c0c-6fd1-4e87-a809-71fd9060f0e5')\"\n",
              "            title=\"Suggest charts\"\n",
              "            style=\"display:none;\">\n",
              "\n",
              "<svg xmlns=\"http://www.w3.org/2000/svg\" height=\"24px\"viewBox=\"0 0 24 24\"\n",
              "     width=\"24px\">\n",
              "    <g>\n",
              "        <path d=\"M19 3H5c-1.1 0-2 .9-2 2v14c0 1.1.9 2 2 2h14c1.1 0 2-.9 2-2V5c0-1.1-.9-2-2-2zM9 17H7v-7h2v7zm4 0h-2V7h2v10zm4 0h-2v-4h2v4z\"/>\n",
              "    </g>\n",
              "</svg>\n",
              "  </button>\n",
              "\n",
              "<style>\n",
              "  .colab-df-quickchart {\n",
              "      --bg-color: #E8F0FE;\n",
              "      --fill-color: #1967D2;\n",
              "      --hover-bg-color: #E2EBFA;\n",
              "      --hover-fill-color: #174EA6;\n",
              "      --disabled-fill-color: #AAA;\n",
              "      --disabled-bg-color: #DDD;\n",
              "  }\n",
              "\n",
              "  [theme=dark] .colab-df-quickchart {\n",
              "      --bg-color: #3B4455;\n",
              "      --fill-color: #D2E3FC;\n",
              "      --hover-bg-color: #434B5C;\n",
              "      --hover-fill-color: #FFFFFF;\n",
              "      --disabled-bg-color: #3B4455;\n",
              "      --disabled-fill-color: #666;\n",
              "  }\n",
              "\n",
              "  .colab-df-quickchart {\n",
              "    background-color: var(--bg-color);\n",
              "    border: none;\n",
              "    border-radius: 50%;\n",
              "    cursor: pointer;\n",
              "    display: none;\n",
              "    fill: var(--fill-color);\n",
              "    height: 32px;\n",
              "    padding: 0;\n",
              "    width: 32px;\n",
              "  }\n",
              "\n",
              "  .colab-df-quickchart:hover {\n",
              "    background-color: var(--hover-bg-color);\n",
              "    box-shadow: 0 1px 2px rgba(60, 64, 67, 0.3), 0 1px 3px 1px rgba(60, 64, 67, 0.15);\n",
              "    fill: var(--button-hover-fill-color);\n",
              "  }\n",
              "\n",
              "  .colab-df-quickchart-complete:disabled,\n",
              "  .colab-df-quickchart-complete:disabled:hover {\n",
              "    background-color: var(--disabled-bg-color);\n",
              "    fill: var(--disabled-fill-color);\n",
              "    box-shadow: none;\n",
              "  }\n",
              "\n",
              "  .colab-df-spinner {\n",
              "    border: 2px solid var(--fill-color);\n",
              "    border-color: transparent;\n",
              "    border-bottom-color: var(--fill-color);\n",
              "    animation:\n",
              "      spin 1s steps(1) infinite;\n",
              "  }\n",
              "\n",
              "  @keyframes spin {\n",
              "    0% {\n",
              "      border-color: transparent;\n",
              "      border-bottom-color: var(--fill-color);\n",
              "      border-left-color: var(--fill-color);\n",
              "    }\n",
              "    20% {\n",
              "      border-color: transparent;\n",
              "      border-left-color: var(--fill-color);\n",
              "      border-top-color: var(--fill-color);\n",
              "    }\n",
              "    30% {\n",
              "      border-color: transparent;\n",
              "      border-left-color: var(--fill-color);\n",
              "      border-top-color: var(--fill-color);\n",
              "      border-right-color: var(--fill-color);\n",
              "    }\n",
              "    40% {\n",
              "      border-color: transparent;\n",
              "      border-right-color: var(--fill-color);\n",
              "      border-top-color: var(--fill-color);\n",
              "    }\n",
              "    60% {\n",
              "      border-color: transparent;\n",
              "      border-right-color: var(--fill-color);\n",
              "    }\n",
              "    80% {\n",
              "      border-color: transparent;\n",
              "      border-right-color: var(--fill-color);\n",
              "      border-bottom-color: var(--fill-color);\n",
              "    }\n",
              "    90% {\n",
              "      border-color: transparent;\n",
              "      border-bottom-color: var(--fill-color);\n",
              "    }\n",
              "  }\n",
              "</style>\n",
              "\n",
              "  <script>\n",
              "    async function quickchart(key) {\n",
              "      const quickchartButtonEl =\n",
              "        document.querySelector('#' + key + ' button');\n",
              "      quickchartButtonEl.disabled = true;  // To prevent multiple clicks.\n",
              "      quickchartButtonEl.classList.add('colab-df-spinner');\n",
              "      try {\n",
              "        const charts = await google.colab.kernel.invokeFunction(\n",
              "            'suggestCharts', [key], {});\n",
              "      } catch (error) {\n",
              "        console.error('Error during call to suggestCharts:', error);\n",
              "      }\n",
              "      quickchartButtonEl.classList.remove('colab-df-spinner');\n",
              "      quickchartButtonEl.classList.add('colab-df-quickchart-complete');\n",
              "    }\n",
              "    (() => {\n",
              "      let quickchartButtonEl =\n",
              "        document.querySelector('#df-c8f31c0c-6fd1-4e87-a809-71fd9060f0e5 button');\n",
              "      quickchartButtonEl.style.display =\n",
              "        google.colab.kernel.accessAllowed ? 'block' : 'none';\n",
              "    })();\n",
              "  </script>\n",
              "</div>\n",
              "\n",
              "  <div id=\"id_960108e2-bf43-4eb9-bca8-cd2d7efaeba1\">\n",
              "    <style>\n",
              "      .colab-df-generate {\n",
              "        background-color: #E8F0FE;\n",
              "        border: none;\n",
              "        border-radius: 50%;\n",
              "        cursor: pointer;\n",
              "        display: none;\n",
              "        fill: #1967D2;\n",
              "        height: 32px;\n",
              "        padding: 0 0 0 0;\n",
              "        width: 32px;\n",
              "      }\n",
              "\n",
              "      .colab-df-generate:hover {\n",
              "        background-color: #E2EBFA;\n",
              "        box-shadow: 0px 1px 2px rgba(60, 64, 67, 0.3), 0px 1px 3px 1px rgba(60, 64, 67, 0.15);\n",
              "        fill: #174EA6;\n",
              "      }\n",
              "\n",
              "      [theme=dark] .colab-df-generate {\n",
              "        background-color: #3B4455;\n",
              "        fill: #D2E3FC;\n",
              "      }\n",
              "\n",
              "      [theme=dark] .colab-df-generate:hover {\n",
              "        background-color: #434B5C;\n",
              "        box-shadow: 0px 1px 3px 1px rgba(0, 0, 0, 0.15);\n",
              "        filter: drop-shadow(0px 1px 2px rgba(0, 0, 0, 0.3));\n",
              "        fill: #FFFFFF;\n",
              "      }\n",
              "    </style>\n",
              "    <button class=\"colab-df-generate\" onclick=\"generateWithVariable('data')\"\n",
              "            title=\"Generate code using this dataframe.\"\n",
              "            style=\"display:none;\">\n",
              "\n",
              "  <svg xmlns=\"http://www.w3.org/2000/svg\" height=\"24px\"viewBox=\"0 0 24 24\"\n",
              "       width=\"24px\">\n",
              "    <path d=\"M7,19H8.4L18.45,9,17,7.55,7,17.6ZM5,21V16.75L18.45,3.32a2,2,0,0,1,2.83,0l1.4,1.43a1.91,1.91,0,0,1,.58,1.4,1.91,1.91,0,0,1-.58,1.4L9.25,21ZM18.45,9,17,7.55Zm-12,3A5.31,5.31,0,0,0,4.9,8.1,5.31,5.31,0,0,0,1,6.5,5.31,5.31,0,0,0,4.9,4.9,5.31,5.31,0,0,0,6.5,1,5.31,5.31,0,0,0,8.1,4.9,5.31,5.31,0,0,0,12,6.5,5.46,5.46,0,0,0,6.5,12Z\"/>\n",
              "  </svg>\n",
              "    </button>\n",
              "    <script>\n",
              "      (() => {\n",
              "      const buttonEl =\n",
              "        document.querySelector('#id_960108e2-bf43-4eb9-bca8-cd2d7efaeba1 button.colab-df-generate');\n",
              "      buttonEl.style.display =\n",
              "        google.colab.kernel.accessAllowed ? 'block' : 'none';\n",
              "\n",
              "      buttonEl.onclick = () => {\n",
              "        google.colab.notebook.generateWithVariable('data');\n",
              "      }\n",
              "      })();\n",
              "    </script>\n",
              "  </div>\n",
              "\n",
              "    </div>\n",
              "  </div>\n"
            ],
            "application/vnd.google.colaboratory.intrinsic+json": {
              "type": "dataframe",
              "variable_name": "data",
              "summary": "{\n  \"name\": \"data\",\n  \"rows\": 9,\n  \"fields\": [\n    {\n      \"column\": \"A\",\n      \"properties\": {\n        \"dtype\": \"number\",\n        \"std\": 0.2738612787525831,\n        \"min\": 0.1,\n        \"max\": 0.9,\n        \"num_unique_values\": 9,\n        \"samples\": [\n          0.8,\n          0.2,\n          0.6\n        ],\n        \"semantic_type\": \"\",\n        \"description\": \"\"\n      }\n    },\n    {\n      \"column\": \"B\",\n      \"properties\": {\n        \"dtype\": \"number\",\n        \"std\": 0.8309031231136395,\n        \"min\": 3.12,\n        \"max\": 5.52,\n        \"num_unique_values\": 9,\n        \"samples\": [\n          5.08,\n          3.28,\n          4.32\n        ],\n        \"semantic_type\": \"\",\n        \"description\": \"\"\n      }\n    }\n  ]\n}"
            }
          },
          "metadata": {},
          "execution_count": 7
        }
      ]
    },
    {
      "cell_type": "markdown",
      "metadata": {
        "id": "60uhMTWicAUq"
      },
      "source": [
        "#Missing Values Treatment"
      ]
    },
    {
      "cell_type": "code",
      "metadata": {
        "colab": {
          "base_uri": "https://localhost:8080/"
        },
        "id": "H5On7TNKVU_Q",
        "outputId": "677144b5-2033-4b1e-f18c-6e1879914730"
      },
      "source": [
        "print(data.isnull().sum())"
      ],
      "execution_count": 8,
      "outputs": [
        {
          "output_type": "stream",
          "name": "stdout",
          "text": [
            "A    0\n",
            "B    0\n",
            "dtype: int64\n"
          ]
        }
      ]
    },
    {
      "cell_type": "code",
      "metadata": {
        "colab": {
          "base_uri": "https://localhost:8080/",
          "height": 590
        },
        "id": "y19-5qRQcCwg",
        "outputId": "f98b650d-41d2-4525-fcd5-325f96fa5ff5"
      },
      "source": [
        "m1=data['A'].mean()\n",
        "m2=data['B'].mean()\n",
        "data['A'].fillna(value=m1, inplace=True)\n",
        "data['B'].fillna(value=m2, inplace=True)\n",
        "data"
      ],
      "execution_count": 9,
      "outputs": [
        {
          "output_type": "stream",
          "name": "stderr",
          "text": [
            "<ipython-input-9-32640b8cc946>:3: FutureWarning: A value is trying to be set on a copy of a DataFrame or Series through chained assignment using an inplace method.\n",
            "The behavior will change in pandas 3.0. This inplace method will never work because the intermediate object on which we are setting values always behaves as a copy.\n",
            "\n",
            "For example, when doing 'df[col].method(value, inplace=True)', try using 'df.method({col: value}, inplace=True)' or df[col] = df[col].method(value) instead, to perform the operation inplace on the original object.\n",
            "\n",
            "\n",
            "  data['A'].fillna(value=m1, inplace=True)\n",
            "<ipython-input-9-32640b8cc946>:4: FutureWarning: A value is trying to be set on a copy of a DataFrame or Series through chained assignment using an inplace method.\n",
            "The behavior will change in pandas 3.0. This inplace method will never work because the intermediate object on which we are setting values always behaves as a copy.\n",
            "\n",
            "For example, when doing 'df[col].method(value, inplace=True)', try using 'df.method({col: value}, inplace=True)' or df[col] = df[col].method(value) instead, to perform the operation inplace on the original object.\n",
            "\n",
            "\n",
            "  data['B'].fillna(value=m2, inplace=True)\n"
          ]
        },
        {
          "output_type": "execute_result",
          "data": {
            "text/plain": [
              "     A     B\n",
              "0  0.1  3.12\n",
              "1  0.2  3.28\n",
              "2  0.3  3.48\n",
              "3  0.4  3.72\n",
              "4  0.5  4.00\n",
              "5  0.6  4.32\n",
              "6  0.7  4.68\n",
              "7  0.8  5.08\n",
              "8  0.9  5.52"
            ],
            "text/html": [
              "\n",
              "  <div id=\"df-8c53ec2a-431d-4bb3-bee4-19883e4bc176\" class=\"colab-df-container\">\n",
              "    <div>\n",
              "<style scoped>\n",
              "    .dataframe tbody tr th:only-of-type {\n",
              "        vertical-align: middle;\n",
              "    }\n",
              "\n",
              "    .dataframe tbody tr th {\n",
              "        vertical-align: top;\n",
              "    }\n",
              "\n",
              "    .dataframe thead th {\n",
              "        text-align: right;\n",
              "    }\n",
              "</style>\n",
              "<table border=\"1\" class=\"dataframe\">\n",
              "  <thead>\n",
              "    <tr style=\"text-align: right;\">\n",
              "      <th></th>\n",
              "      <th>A</th>\n",
              "      <th>B</th>\n",
              "    </tr>\n",
              "  </thead>\n",
              "  <tbody>\n",
              "    <tr>\n",
              "      <th>0</th>\n",
              "      <td>0.1</td>\n",
              "      <td>3.12</td>\n",
              "    </tr>\n",
              "    <tr>\n",
              "      <th>1</th>\n",
              "      <td>0.2</td>\n",
              "      <td>3.28</td>\n",
              "    </tr>\n",
              "    <tr>\n",
              "      <th>2</th>\n",
              "      <td>0.3</td>\n",
              "      <td>3.48</td>\n",
              "    </tr>\n",
              "    <tr>\n",
              "      <th>3</th>\n",
              "      <td>0.4</td>\n",
              "      <td>3.72</td>\n",
              "    </tr>\n",
              "    <tr>\n",
              "      <th>4</th>\n",
              "      <td>0.5</td>\n",
              "      <td>4.00</td>\n",
              "    </tr>\n",
              "    <tr>\n",
              "      <th>5</th>\n",
              "      <td>0.6</td>\n",
              "      <td>4.32</td>\n",
              "    </tr>\n",
              "    <tr>\n",
              "      <th>6</th>\n",
              "      <td>0.7</td>\n",
              "      <td>4.68</td>\n",
              "    </tr>\n",
              "    <tr>\n",
              "      <th>7</th>\n",
              "      <td>0.8</td>\n",
              "      <td>5.08</td>\n",
              "    </tr>\n",
              "    <tr>\n",
              "      <th>8</th>\n",
              "      <td>0.9</td>\n",
              "      <td>5.52</td>\n",
              "    </tr>\n",
              "  </tbody>\n",
              "</table>\n",
              "</div>\n",
              "    <div class=\"colab-df-buttons\">\n",
              "\n",
              "  <div class=\"colab-df-container\">\n",
              "    <button class=\"colab-df-convert\" onclick=\"convertToInteractive('df-8c53ec2a-431d-4bb3-bee4-19883e4bc176')\"\n",
              "            title=\"Convert this dataframe to an interactive table.\"\n",
              "            style=\"display:none;\">\n",
              "\n",
              "  <svg xmlns=\"http://www.w3.org/2000/svg\" height=\"24px\" viewBox=\"0 -960 960 960\">\n",
              "    <path d=\"M120-120v-720h720v720H120Zm60-500h600v-160H180v160Zm220 220h160v-160H400v160Zm0 220h160v-160H400v160ZM180-400h160v-160H180v160Zm440 0h160v-160H620v160ZM180-180h160v-160H180v160Zm440 0h160v-160H620v160Z\"/>\n",
              "  </svg>\n",
              "    </button>\n",
              "\n",
              "  <style>\n",
              "    .colab-df-container {\n",
              "      display:flex;\n",
              "      gap: 12px;\n",
              "    }\n",
              "\n",
              "    .colab-df-convert {\n",
              "      background-color: #E8F0FE;\n",
              "      border: none;\n",
              "      border-radius: 50%;\n",
              "      cursor: pointer;\n",
              "      display: none;\n",
              "      fill: #1967D2;\n",
              "      height: 32px;\n",
              "      padding: 0 0 0 0;\n",
              "      width: 32px;\n",
              "    }\n",
              "\n",
              "    .colab-df-convert:hover {\n",
              "      background-color: #E2EBFA;\n",
              "      box-shadow: 0px 1px 2px rgba(60, 64, 67, 0.3), 0px 1px 3px 1px rgba(60, 64, 67, 0.15);\n",
              "      fill: #174EA6;\n",
              "    }\n",
              "\n",
              "    .colab-df-buttons div {\n",
              "      margin-bottom: 4px;\n",
              "    }\n",
              "\n",
              "    [theme=dark] .colab-df-convert {\n",
              "      background-color: #3B4455;\n",
              "      fill: #D2E3FC;\n",
              "    }\n",
              "\n",
              "    [theme=dark] .colab-df-convert:hover {\n",
              "      background-color: #434B5C;\n",
              "      box-shadow: 0px 1px 3px 1px rgba(0, 0, 0, 0.15);\n",
              "      filter: drop-shadow(0px 1px 2px rgba(0, 0, 0, 0.3));\n",
              "      fill: #FFFFFF;\n",
              "    }\n",
              "  </style>\n",
              "\n",
              "    <script>\n",
              "      const buttonEl =\n",
              "        document.querySelector('#df-8c53ec2a-431d-4bb3-bee4-19883e4bc176 button.colab-df-convert');\n",
              "      buttonEl.style.display =\n",
              "        google.colab.kernel.accessAllowed ? 'block' : 'none';\n",
              "\n",
              "      async function convertToInteractive(key) {\n",
              "        const element = document.querySelector('#df-8c53ec2a-431d-4bb3-bee4-19883e4bc176');\n",
              "        const dataTable =\n",
              "          await google.colab.kernel.invokeFunction('convertToInteractive',\n",
              "                                                    [key], {});\n",
              "        if (!dataTable) return;\n",
              "\n",
              "        const docLinkHtml = 'Like what you see? Visit the ' +\n",
              "          '<a target=\"_blank\" href=https://colab.research.google.com/notebooks/data_table.ipynb>data table notebook</a>'\n",
              "          + ' to learn more about interactive tables.';\n",
              "        element.innerHTML = '';\n",
              "        dataTable['output_type'] = 'display_data';\n",
              "        await google.colab.output.renderOutput(dataTable, element);\n",
              "        const docLink = document.createElement('div');\n",
              "        docLink.innerHTML = docLinkHtml;\n",
              "        element.appendChild(docLink);\n",
              "      }\n",
              "    </script>\n",
              "  </div>\n",
              "\n",
              "\n",
              "<div id=\"df-4bab164f-5c38-4438-9ef3-f3afcd96f044\">\n",
              "  <button class=\"colab-df-quickchart\" onclick=\"quickchart('df-4bab164f-5c38-4438-9ef3-f3afcd96f044')\"\n",
              "            title=\"Suggest charts\"\n",
              "            style=\"display:none;\">\n",
              "\n",
              "<svg xmlns=\"http://www.w3.org/2000/svg\" height=\"24px\"viewBox=\"0 0 24 24\"\n",
              "     width=\"24px\">\n",
              "    <g>\n",
              "        <path d=\"M19 3H5c-1.1 0-2 .9-2 2v14c0 1.1.9 2 2 2h14c1.1 0 2-.9 2-2V5c0-1.1-.9-2-2-2zM9 17H7v-7h2v7zm4 0h-2V7h2v10zm4 0h-2v-4h2v4z\"/>\n",
              "    </g>\n",
              "</svg>\n",
              "  </button>\n",
              "\n",
              "<style>\n",
              "  .colab-df-quickchart {\n",
              "      --bg-color: #E8F0FE;\n",
              "      --fill-color: #1967D2;\n",
              "      --hover-bg-color: #E2EBFA;\n",
              "      --hover-fill-color: #174EA6;\n",
              "      --disabled-fill-color: #AAA;\n",
              "      --disabled-bg-color: #DDD;\n",
              "  }\n",
              "\n",
              "  [theme=dark] .colab-df-quickchart {\n",
              "      --bg-color: #3B4455;\n",
              "      --fill-color: #D2E3FC;\n",
              "      --hover-bg-color: #434B5C;\n",
              "      --hover-fill-color: #FFFFFF;\n",
              "      --disabled-bg-color: #3B4455;\n",
              "      --disabled-fill-color: #666;\n",
              "  }\n",
              "\n",
              "  .colab-df-quickchart {\n",
              "    background-color: var(--bg-color);\n",
              "    border: none;\n",
              "    border-radius: 50%;\n",
              "    cursor: pointer;\n",
              "    display: none;\n",
              "    fill: var(--fill-color);\n",
              "    height: 32px;\n",
              "    padding: 0;\n",
              "    width: 32px;\n",
              "  }\n",
              "\n",
              "  .colab-df-quickchart:hover {\n",
              "    background-color: var(--hover-bg-color);\n",
              "    box-shadow: 0 1px 2px rgba(60, 64, 67, 0.3), 0 1px 3px 1px rgba(60, 64, 67, 0.15);\n",
              "    fill: var(--button-hover-fill-color);\n",
              "  }\n",
              "\n",
              "  .colab-df-quickchart-complete:disabled,\n",
              "  .colab-df-quickchart-complete:disabled:hover {\n",
              "    background-color: var(--disabled-bg-color);\n",
              "    fill: var(--disabled-fill-color);\n",
              "    box-shadow: none;\n",
              "  }\n",
              "\n",
              "  .colab-df-spinner {\n",
              "    border: 2px solid var(--fill-color);\n",
              "    border-color: transparent;\n",
              "    border-bottom-color: var(--fill-color);\n",
              "    animation:\n",
              "      spin 1s steps(1) infinite;\n",
              "  }\n",
              "\n",
              "  @keyframes spin {\n",
              "    0% {\n",
              "      border-color: transparent;\n",
              "      border-bottom-color: var(--fill-color);\n",
              "      border-left-color: var(--fill-color);\n",
              "    }\n",
              "    20% {\n",
              "      border-color: transparent;\n",
              "      border-left-color: var(--fill-color);\n",
              "      border-top-color: var(--fill-color);\n",
              "    }\n",
              "    30% {\n",
              "      border-color: transparent;\n",
              "      border-left-color: var(--fill-color);\n",
              "      border-top-color: var(--fill-color);\n",
              "      border-right-color: var(--fill-color);\n",
              "    }\n",
              "    40% {\n",
              "      border-color: transparent;\n",
              "      border-right-color: var(--fill-color);\n",
              "      border-top-color: var(--fill-color);\n",
              "    }\n",
              "    60% {\n",
              "      border-color: transparent;\n",
              "      border-right-color: var(--fill-color);\n",
              "    }\n",
              "    80% {\n",
              "      border-color: transparent;\n",
              "      border-right-color: var(--fill-color);\n",
              "      border-bottom-color: var(--fill-color);\n",
              "    }\n",
              "    90% {\n",
              "      border-color: transparent;\n",
              "      border-bottom-color: var(--fill-color);\n",
              "    }\n",
              "  }\n",
              "</style>\n",
              "\n",
              "  <script>\n",
              "    async function quickchart(key) {\n",
              "      const quickchartButtonEl =\n",
              "        document.querySelector('#' + key + ' button');\n",
              "      quickchartButtonEl.disabled = true;  // To prevent multiple clicks.\n",
              "      quickchartButtonEl.classList.add('colab-df-spinner');\n",
              "      try {\n",
              "        const charts = await google.colab.kernel.invokeFunction(\n",
              "            'suggestCharts', [key], {});\n",
              "      } catch (error) {\n",
              "        console.error('Error during call to suggestCharts:', error);\n",
              "      }\n",
              "      quickchartButtonEl.classList.remove('colab-df-spinner');\n",
              "      quickchartButtonEl.classList.add('colab-df-quickchart-complete');\n",
              "    }\n",
              "    (() => {\n",
              "      let quickchartButtonEl =\n",
              "        document.querySelector('#df-4bab164f-5c38-4438-9ef3-f3afcd96f044 button');\n",
              "      quickchartButtonEl.style.display =\n",
              "        google.colab.kernel.accessAllowed ? 'block' : 'none';\n",
              "    })();\n",
              "  </script>\n",
              "</div>\n",
              "\n",
              "  <div id=\"id_9d99eaeb-1ad8-41e5-8530-4408e105791d\">\n",
              "    <style>\n",
              "      .colab-df-generate {\n",
              "        background-color: #E8F0FE;\n",
              "        border: none;\n",
              "        border-radius: 50%;\n",
              "        cursor: pointer;\n",
              "        display: none;\n",
              "        fill: #1967D2;\n",
              "        height: 32px;\n",
              "        padding: 0 0 0 0;\n",
              "        width: 32px;\n",
              "      }\n",
              "\n",
              "      .colab-df-generate:hover {\n",
              "        background-color: #E2EBFA;\n",
              "        box-shadow: 0px 1px 2px rgba(60, 64, 67, 0.3), 0px 1px 3px 1px rgba(60, 64, 67, 0.15);\n",
              "        fill: #174EA6;\n",
              "      }\n",
              "\n",
              "      [theme=dark] .colab-df-generate {\n",
              "        background-color: #3B4455;\n",
              "        fill: #D2E3FC;\n",
              "      }\n",
              "\n",
              "      [theme=dark] .colab-df-generate:hover {\n",
              "        background-color: #434B5C;\n",
              "        box-shadow: 0px 1px 3px 1px rgba(0, 0, 0, 0.15);\n",
              "        filter: drop-shadow(0px 1px 2px rgba(0, 0, 0, 0.3));\n",
              "        fill: #FFFFFF;\n",
              "      }\n",
              "    </style>\n",
              "    <button class=\"colab-df-generate\" onclick=\"generateWithVariable('data')\"\n",
              "            title=\"Generate code using this dataframe.\"\n",
              "            style=\"display:none;\">\n",
              "\n",
              "  <svg xmlns=\"http://www.w3.org/2000/svg\" height=\"24px\"viewBox=\"0 0 24 24\"\n",
              "       width=\"24px\">\n",
              "    <path d=\"M7,19H8.4L18.45,9,17,7.55,7,17.6ZM5,21V16.75L18.45,3.32a2,2,0,0,1,2.83,0l1.4,1.43a1.91,1.91,0,0,1,.58,1.4,1.91,1.91,0,0,1-.58,1.4L9.25,21ZM18.45,9,17,7.55Zm-12,3A5.31,5.31,0,0,0,4.9,8.1,5.31,5.31,0,0,0,1,6.5,5.31,5.31,0,0,0,4.9,4.9,5.31,5.31,0,0,0,6.5,1,5.31,5.31,0,0,0,8.1,4.9,5.31,5.31,0,0,0,12,6.5,5.46,5.46,0,0,0,6.5,12Z\"/>\n",
              "  </svg>\n",
              "    </button>\n",
              "    <script>\n",
              "      (() => {\n",
              "      const buttonEl =\n",
              "        document.querySelector('#id_9d99eaeb-1ad8-41e5-8530-4408e105791d button.colab-df-generate');\n",
              "      buttonEl.style.display =\n",
              "        google.colab.kernel.accessAllowed ? 'block' : 'none';\n",
              "\n",
              "      buttonEl.onclick = () => {\n",
              "        google.colab.notebook.generateWithVariable('data');\n",
              "      }\n",
              "      })();\n",
              "    </script>\n",
              "  </div>\n",
              "\n",
              "    </div>\n",
              "  </div>\n"
            ],
            "application/vnd.google.colaboratory.intrinsic+json": {
              "type": "dataframe",
              "variable_name": "data",
              "summary": "{\n  \"name\": \"data\",\n  \"rows\": 9,\n  \"fields\": [\n    {\n      \"column\": \"A\",\n      \"properties\": {\n        \"dtype\": \"number\",\n        \"std\": 0.2738612787525831,\n        \"min\": 0.1,\n        \"max\": 0.9,\n        \"num_unique_values\": 9,\n        \"samples\": [\n          0.8,\n          0.2,\n          0.6\n        ],\n        \"semantic_type\": \"\",\n        \"description\": \"\"\n      }\n    },\n    {\n      \"column\": \"B\",\n      \"properties\": {\n        \"dtype\": \"number\",\n        \"std\": 0.8309031231136395,\n        \"min\": 3.12,\n        \"max\": 5.52,\n        \"num_unique_values\": 9,\n        \"samples\": [\n          5.08,\n          3.28,\n          4.32\n        ],\n        \"semantic_type\": \"\",\n        \"description\": \"\"\n      }\n    }\n  ]\n}"
            }
          },
          "metadata": {},
          "execution_count": 9
        }
      ]
    },
    {
      "cell_type": "markdown",
      "metadata": {
        "id": "w5FSd7wDcQOp"
      },
      "source": [
        "#Data Split"
      ]
    },
    {
      "cell_type": "code",
      "metadata": {
        "id": "AJWBFPHCcGNY"
      },
      "source": [
        "from sklearn.model_selection import train_test_split\n",
        "x_train, x_test, y_train, y_test = train_test_split(data.A, data.B, test_size = 0.20, random_state = 10)"
      ],
      "execution_count": 10,
      "outputs": []
    },
    {
      "cell_type": "markdown",
      "metadata": {
        "id": "ZdraP2Mtcpyg"
      },
      "source": [
        "#Initialization"
      ]
    },
    {
      "cell_type": "code",
      "metadata": {
        "id": "br7vhRGdcSRo"
      },
      "source": [
        "m1=random.uniform(-10,10)\n",
        "m2=random.uniform(-10,10)\n",
        "c=random.uniform(-10,10)\n",
        "eta=0.01\n",
        "max_iter=100000"
      ],
      "execution_count": 11,
      "outputs": []
    },
    {
      "cell_type": "markdown",
      "metadata": {
        "id": "bMBaOXNmcwwB"
      },
      "source": [
        "#Gradient Calculation"
      ]
    },
    {
      "cell_type": "code",
      "metadata": {
        "id": "RieDAjKZctGQ"
      },
      "source": [
        "def gradient(m1,m2,c,x,y):\n",
        "  m1_deriv=-1*(y-m1*x*x-m2*x-c)*x*x\n",
        "  m2_deriv=-1*(y-m1*x*x-m2*x-c)*x\n",
        "  c_deriv=-1*(y-m1*x*x-m2*x-c)\n",
        "  return m1_deriv,m2_deriv,c_deriv"
      ],
      "execution_count": 12,
      "outputs": []
    },
    {
      "cell_type": "markdown",
      "metadata": {
        "id": "A6-hjf5rdWz6"
      },
      "source": [
        "#Training Using Stochastic Gradient Descent Optimizer"
      ]
    },
    {
      "cell_type": "code",
      "metadata": {
        "colab": {
          "base_uri": "https://localhost:8080/"
        },
        "id": "e34mtuc-dQkg",
        "outputId": "ff3e25f6-a038-41e2-f666-6e215873ac3d"
      },
      "source": [
        "for iter in range(max_iter):\n",
        "  for sample in range(x_train.shape[0]):\n",
        "    del_m1,del_m2,del_c=gradient(m1, m2, c, x_train.iloc[sample], y_train.iloc[sample])\n",
        "    m1=m1-eta*del_m1\n",
        "    m2=m2-eta*del_m2\n",
        "    c=c-eta*del_c\n",
        "print('model parameter m1, m2 and c',m1,m2,c)"
      ],
      "execution_count": 13,
      "outputs": [
        {
          "output_type": "stream",
          "name": "stdout",
          "text": [
            "model parameter m1, m2 and c 1.9990546276331258 1.0008580168038244 2.9998590108109613\n"
          ]
        }
      ]
    },
    {
      "cell_type": "markdown",
      "metadata": {
        "id": "j9S4kEM-z2O-"
      },
      "source": [
        "## Model Prediction on Training Data"
      ]
    },
    {
      "cell_type": "code",
      "metadata": {
        "id": "EYARm4k80JwG"
      },
      "source": [
        "y_pred_train = []\n",
        "for i in x_train:\n",
        "  y_p_tr = (m1 * i*i)+(m2 * i) + c\n",
        "  y_pred_train.append(y_p_tr)\n",
        "y_pred_train = np.array(y_pred_train)"
      ],
      "execution_count": 14,
      "outputs": []
    },
    {
      "cell_type": "markdown",
      "metadata": {
        "id": "gyAc02l-0S0W"
      },
      "source": [
        "## Model Prediction on Testing Data"
      ]
    },
    {
      "cell_type": "code",
      "metadata": {
        "id": "vY4_5_lS0Z2m"
      },
      "source": [
        "y_pred_test = []\n",
        "for i in x_test:\n",
        "  y_p_te = (m1 * i*i)+(m2 * i) + c\n",
        "  y_pred_test.append(y_p_te)\n",
        "y_pred_test = np.array(y_pred_test)"
      ],
      "execution_count": 15,
      "outputs": []
    },
    {
      "cell_type": "markdown",
      "metadata": {
        "id": "9n2cnVeQ0c2e"
      },
      "source": [
        "## Error Metrics Calculation"
      ]
    },
    {
      "cell_type": "code",
      "metadata": {
        "colab": {
          "base_uri": "https://localhost:8080/"
        },
        "id": "lINlz8560gI-",
        "outputId": "7c95554f-40d4-47bb-fffc-e3c74325d10f"
      },
      "source": [
        "\n",
        "import math\n",
        "from sklearn.metrics import mean_squared_error\n",
        "from sklearn.metrics import mean_absolute_error\n",
        "\n",
        "\n",
        "#Training Accuracies\n",
        "rmse = math.sqrt(mean_squared_error(y_train, y_pred_train))\n",
        "print('Root mean square error', rmse)\n",
        "mse = (mean_squared_error(y_train, y_pred_train))\n",
        "print('Mean square error', mse)\n",
        "mae=mean_absolute_error(y_train, y_pred_train)\n",
        "print('Mean absolute error', mae)"
      ],
      "execution_count": 16,
      "outputs": [
        {
          "output_type": "stream",
          "name": "stdout",
          "text": [
            "Root mean square error 4.501699668271249e-05\n",
            "Mean square error 2.0265299903313472e-09\n",
            "Mean absolute error 3.874097404419986e-05\n"
          ]
        }
      ]
    },
    {
      "cell_type": "code",
      "metadata": {
        "id": "LCnub4me0m3F",
        "colab": {
          "base_uri": "https://localhost:8080/"
        },
        "outputId": "2adcddcd-ee59-42c1-f7fd-d32ac9cacb73"
      },
      "source": [
        "#Testing Accuracies\n",
        "mse = (mean_squared_error(y_test, y_pred_test))\n",
        "print('Mean square error', mse)\n",
        "mse = mt.sqrt(mean_squared_error(y_test, y_pred_test))\n",
        "print('Root mean square error', mse)\n",
        "mae=mean_absolute_error(y_test, y_pred_test)\n",
        "print('Mean absolute error', mae)"
      ],
      "execution_count": 17,
      "outputs": [
        {
          "output_type": "stream",
          "name": "stdout",
          "text": [
            "Mean square error 9.539437397991585e-09\n",
            "Root mean square error 9.767004350358191e-05\n",
            "Mean absolute error 8.29290109269909e-05\n"
          ]
        }
      ]
    },
    {
      "cell_type": "code",
      "metadata": {
        "colab": {
          "base_uri": "https://localhost:8080/"
        },
        "id": "imiIuJmdgi0A",
        "outputId": "fb0d182c-e678-4f40-88c3-665d2d336922"
      },
      "source": [
        "x=input(\"Enter value of input\")\n",
        "estimation=m1*float(x)*float(x)+m2*float(x)+c\n",
        "print(\"estimated output:\",estimation)"
      ],
      "execution_count": 18,
      "outputs": [
        {
          "output_type": "stream",
          "name": "stdout",
          "text": [
            "Enter value of input0.2\n",
            "estimated output: 3.2799927992770512\n"
          ]
        }
      ]
    },
    {
      "cell_type": "markdown",
      "metadata": {
        "id": "yq3lv-GDjMnL"
      },
      "source": [
        "## Thank You"
      ]
    }
  ]
}